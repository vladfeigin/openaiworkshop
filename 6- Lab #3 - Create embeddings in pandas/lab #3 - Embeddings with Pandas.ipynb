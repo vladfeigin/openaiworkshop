{
 "cells": [
  {
   "cell_type": "code",
   "execution_count": null,
   "metadata": {},
   "outputs": [],
   "source": [
    "from dotenv import load_dotenv\n",
    "import tiktoken\n",
    "import openai\n",
    "import pandas as pd\n",
    "import os\n",
    "import numpy as np\n",
    "from openai.embeddings_utils import cosine_similarity, get_embedding"
   ]
  },
  {
   "cell_type": "code",
   "execution_count": null,
   "metadata": {},
   "outputs": [],
   "source": [
    "load_dotenv()\n",
    "OPENAI_API_KEY = os.getenv(\"OPENAI_API_KEY\") \n",
    "OPENAI_DEPLOYMENT_ENDPOINT = os.getenv(\"OPENAI_DEPLOYMENT_ENDPOINT\")\n",
    "OPENAI_DEPLOYMENT_NAME = os.getenv(\"OPENAI_DEPLOYMENT_NAME\")\n",
    "OPENAI_MODEL_NAME = os.getenv(\"OPENAI_MODEL_NAME\")\n",
    "OPENAI_EMBEDDING_DEPLOYMENT_NAME = os.getenv(\"OPENAI_EMBEDDING_DEPLOYMENT_NAME\")\n",
    "OPENAI_EMBEDDING_MODEL_NAME = os.getenv(\"OPENAI_EMBEDDING_MODEL_NAME\")\n",
    "OPENAI_DEPLOYMENT_VERSION = os.getenv(\"OPENAI_DEPLOYMENT_VERSION\")\n",
    "\n",
    "# Configure OpenAI API\n",
    "openai.api_type = \"azure\"\n",
    "openai.api_version = OPENAI_DEPLOYMENT_VERSION\n",
    "openai.api_base = OPENAI_DEPLOYMENT_ENDPOINT\n",
    "openai.api_key = OPENAI_API_KEY"
   ]
  },
  {
   "attachments": {},
   "cell_type": "markdown",
   "metadata": {},
   "source": [
    "#### Read CSV using pandas"
   ]
  },
  {
   "cell_type": "code",
   "execution_count": null,
   "metadata": {},
   "outputs": [],
   "source": [
    "input_datapath = \"./data/recipes_onecol.csv\"  \n",
    "df = pd.read_csv(input_datapath)"
   ]
  },
  {
   "attachments": {},
   "cell_type": "markdown",
   "metadata": {},
   "source": [
    "### Using OpenAI model ada for embeddings\n",
    "\n",
    "OpenAI offers one second-generation embedding model (denoted by -002 in the model ID) and 16 first-generation models (denoted by -001 in the model ID).\n",
    "We recommend using text-embedding-ada-002 for nearly all use cases. It’s better, cheaper, and simpler to use. "
   ]
  },
  {
   "attachments": {},
   "cell_type": "markdown",
   "metadata": {},
   "source": [
    "#### Initialize Embeddings model "
   ]
  },
  {
   "cell_type": "code",
   "execution_count": null,
   "metadata": {},
   "outputs": [],
   "source": [
    "# embedding model parameters\n",
    "# encoding for text-embedding-ada-002\n",
    "embedding_encoding = \"cl100k_base\"  \n",
    "# the maximum for text-embedding-ada-002 is 8191\n",
    "max_tokens = 8000 \n",
    "# the number of reviews to embed\n",
    "top_n = 1000\n",
    "encoding = tiktoken.get_encoding(embedding_encoding)"
   ]
  },
  {
   "attachments": {},
   "cell_type": "markdown",
   "metadata": {},
   "source": [
    "#### Count number of tokens in each row"
   ]
  },
  {
   "cell_type": "code",
   "execution_count": null,
   "metadata": {},
   "outputs": [],
   "source": [
    "# skip Recipes that are too long to embed > max_tokens\n",
    "df[\"n_tokens\"] = df.Recipe.apply(lambda x: len(encoding.encode(x)))\n",
    "df = df[df.n_tokens <= max_tokens].tail(top_n)"
   ]
  },
  {
   "attachments": {},
   "cell_type": "markdown",
   "metadata": {},
   "source": [
    "#### Create embeddings"
   ]
  },
  {
   "cell_type": "code",
   "execution_count": 32,
   "metadata": {},
   "outputs": [],
   "source": [
    "# This may take a few minutes\n",
    "df[\"embedding\"] = df.Recipe.apply(lambda x: get_embedding(x, engine=OPENAI_EMBEDDING_MODEL_NAME))\n",
    "# save the file\n",
    "df.to_csv(\"./data/recipes_onecol_with_embeddings.csv\")"
   ]
  },
  {
   "attachments": {},
   "cell_type": "markdown",
   "metadata": {},
   "source": [
    "#### Read embeddings"
   ]
  },
  {
   "cell_type": "code",
   "execution_count": null,
   "metadata": {},
   "outputs": [],
   "source": [
    "datafile_path = \"./data/recipes_onecol_with_embeddings.csv\"\n",
    "df = pd.read_csv(datafile_path)\n",
    "# convert the string representation of the embedding to a numpy array\n",
    "df[\"embedding\"] = df.embedding.apply(eval).apply(np.array)"
   ]
  },
  {
   "attachments": {},
   "cell_type": "markdown",
   "metadata": {},
   "source": [
    "#### Define a function to ask a question and get an answer from GPT-3.5"
   ]
  },
  {
   "cell_type": "code",
   "execution_count": null,
   "metadata": {},
   "outputs": [],
   "source": [
    "def ask_question(question):\n",
    "    n=1\n",
    "    question_embedding = get_embedding(\n",
    "        question,\n",
    "        engine=OPENAI_EMBEDDING_DEPLOYMENT_NAME\n",
    "    )\n",
    "    df[\"similarity\"] = df.embedding.apply(lambda x: cosine_similarity(x, question_embedding))\n",
    "\n",
    "    results = (\n",
    "        df.sort_values(\"similarity\", ascending=False)\n",
    "        .head(n)\n",
    "    )\n",
    "    answer =  ' '.join(results.Recipe.tolist()) \n",
    "    print(\"Answer:\", answer)"
   ]
  },
  {
   "attachments": {},
   "cell_type": "markdown",
   "metadata": {},
   "source": [
    "#### Berries is similar to raspberries"
   ]
  },
  {
   "cell_type": "code",
   "execution_count": null,
   "metadata": {},
   "outputs": [],
   "source": [
    "ask_question(\"Chocolate and berries\")"
   ]
  },
  {
   "attachments": {},
   "cell_type": "markdown",
   "metadata": {},
   "source": [
    "#### Bukgur instead of Bulgur"
   ]
  },
  {
   "cell_type": "code",
   "execution_count": null,
   "metadata": {},
   "outputs": [],
   "source": [
    "ask_question(\"Bukgur vegan recipe\")"
   ]
  },
  {
   "cell_type": "code",
   "execution_count": null,
   "metadata": {},
   "outputs": [],
   "source": [
    "ask_question(\"Fish no alcohol\")"
   ]
  },
  {
   "cell_type": "code",
   "execution_count": null,
   "metadata": {},
   "outputs": [
    {
     "name": "stdout",
     "output_type": "stream",
     "text": [
      "Answer: Recipe: Trout in Riesling - Ingredients: 2 tablespoons (1 oz) unsalted butter plus additional for greasing;1 medium carrot;1 celery rib;4 (6- to 8-oz) trout fillets with skin;1 1/2 teaspoons salt;1 teaspoon black pepper;4 medium shallots, cut lengthwise into 1/8-inch-thick slices (1 cup);2 fresh parsley sprigs;5 black peppercorns;1 1/2 cups water;1 1/2 cups dry Riesling;3/4 cup heavy cream;2 teaspoons cornstarch;2 teaspoons chopped fresh tarragon;1/2 teaspoon fresh lemon juice;Special equipment: an adjustable-blade slicer; tweezers or needlenose pliers- Instructions: Put oven rack in middle position and preheat oven to 375°F. Butter bottom and sides of a 13- by 9-inch glass baking dish. Cut carrot and celery lengthwise with slicer into very thin matchsticks (less than 1/8 inch wide and 2 1/2 inches long). Rinse trout and remove any pin bones with tweezers or needlenose pliers. Pat dry, then sprinkle 1/2 teaspoon each of salt and pepper on fish (flesh sides only). Arrange fillets in baking dish, skin sides down, overlapping slightly. Heat butter (2 tablespoons) in a 12-inch heavy skillet over moderate heat until foam subsides, then cook shallots, stirring, until softened, about 3 minutes (do not brown). Add carrot, celery, parsley, and peppercorns and cook, stirring, until vegetables are crisp-tender, about 5 minutes. Add water, wine, and 1/2 teaspoon salt and boil 1 minute. Remove skillet from heat and pour liquid over fish, then spread vegetables evenly in baking dish. Set skillet aside. Cover dish tightly with foil and bake until fish is just cooked through, 6 to 8 minutes. Transfer fish (topped with vegetables) to a platter and cover with foil to keep warm. Pour cooking liquid with any remaining vegetables through a sieve set over a bowl. Sprinkle vegetables from sieve over fish (discard peppercorns) and re-cover with foil. Spoon 1 cup of strained cooking liquid into cleaned skillet. Boil over high heat until reduced to about 1/2 cup, about 2 minutes. Whisk cream into cornstarch until smooth, then whisk into sauce and boil, whisking, until thickened, about 1 minute. Stir in tarragon, lemon juice, and remaining 1/2 teaspoon each of salt and pepper. Remove foil from fish and blot any liquid accumulated on platter with paper towels. Pour sauce over fish.\n",
      "Put oven rack in middle position and preheat oven to 375°F. Butter bottom and sides of a 13- by 9-inch glass baking dish.\n",
      "Cut carrot and celery lengthwise with slicer into very thin matchsticks (less than 1/8 inch wide and 2 1/2 inches long).\n",
      "Rinse trout and remove any pin bones with tweezers or needlenose pliers. Pat dry, then sprinkle 1/2 teaspoon each of salt and pepper on fish (flesh sides only). Arrange fillets in baking dish, skin sides down, overlapping slightly.\n",
      "Heat butter (2 tablespoons) in a 12-inch heavy skillet over moderate heat until foam subsides, then cook shallots, stirring, until softened, about 3 minutes (do not brown). Add carrot, celery, parsley, and peppercorns and cook, stirring, until vegetables are crisp-tender, about 5 minutes. Add water, wine, and 1/2 teaspoon salt and boil 1 minute. Remove skillet from heat and pour liquid over fish, then spread vegetables evenly in baking dish. Set skillet aside. Cover dish tightly with foil and bake until fish is just cooked through, 6 to 8 minutes.\n",
      "Transfer fish (topped with vegetables) to a platter and cover with foil to keep warm. Pour cooking liquid with any remaining vegetables through a sieve set over a bowl. Sprinkle vegetables from sieve over fish (discard peppercorns) and re-cover with foil.\n",
      "Spoon 1 cup of strained cooking liquid into cleaned skillet. Boil over high heat until reduced to about 1/2 cup, about 2 minutes. Whisk cream into cornstarch until smooth, then whisk into sauce and boil, whisking, until thickened, about 1 minute. Stir in tarragon, lemon juice, and remaining 1/2 teaspoon each of salt and pepper.\n",
      "Remove foil from fish and blot any liquid accumulated on platter with paper towels. Pour sauce over fish.\n"
     ]
    }
   ],
   "source": [
    "ask_question(\"Fish with wine\")"
   ]
  },
  {
   "cell_type": "code",
   "execution_count": null,
   "metadata": {},
   "outputs": [],
   "source": [
    "ask_question(\"Fish with alcohol\")"
   ]
  }
 ],
 "metadata": {
  "kernelspec": {
   "display_name": ".venv",
   "language": "python",
   "name": "python3"
  },
  "language_info": {
   "codemirror_mode": {
    "name": "ipython",
    "version": 3
   },
   "file_extension": ".py",
   "mimetype": "text/x-python",
   "name": "python",
   "nbconvert_exporter": "python",
   "pygments_lexer": "ipython3",
   "version": "3.10.11"
  },
  "orig_nbformat": 4
 },
 "nbformat": 4,
 "nbformat_minor": 2
}

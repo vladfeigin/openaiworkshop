{
 "cells": [
  {
   "cell_type": "code",
   "execution_count": 2,
   "metadata": {},
   "outputs": [],
   "source": [
    "from dotenv import load_dotenv\n",
    "import tiktoken\n",
    "import openai\n",
    "import pandas as pd\n",
    "import os\n",
    "import numpy as np\n",
    "from openai.embeddings_utils import cosine_similarity, get_embedding"
   ]
  },
  {
   "cell_type": "code",
   "execution_count": 3,
   "metadata": {},
   "outputs": [],
   "source": [
    "load_dotenv()\n",
    "OPENAI_API_KEY = os.getenv(\"OPENAI_API_KEY\") \n",
    "OPENAI_DEPLOYMENT_ENDPOINT = os.getenv(\"OPENAI_DEPLOYMENT_ENDPOINT\")\n",
    "OPENAI_DEPLOYMENT_NAME = os.getenv(\"OPENAI_DEPLOYMENT_NAME\")\n",
    "OPENAI_MODEL_NAME = os.getenv(\"OPENAI_MODEL_NAME\")\n",
    "OPENAI_EMBEDDING_DEPLOYMENT_NAME = os.getenv(\"OPENAI_EMBEDDING_DEPLOYMENT_NAME\")\n",
    "OPENAI_EMBEDDING_MODEL_NAME = os.getenv(\"OPENAI_EMBEDDING_MODEL_NAME\")\n",
    "OPENAI_DEPLOYMENT_VERSION = os.getenv(\"OPENAI_DEPLOYMENT_VERSION\")\n",
    "\n",
    "# Configure OpenAI API\n",
    "openai.api_type = \"azure\"\n",
    "openai.api_version = OPENAI_DEPLOYMENT_VERSION\n",
    "openai.api_base = OPENAI_DEPLOYMENT_ENDPOINT\n",
    "openai.api_key = OPENAI_API_KEY"
   ]
  },
  {
   "attachments": {},
   "cell_type": "markdown",
   "metadata": {},
   "source": [
    "#### Read CSV using pandas"
   ]
  },
  {
   "cell_type": "code",
   "execution_count": null,
   "metadata": {},
   "outputs": [],
   "source": [
    "input_datapath = \"./data/recipes_onecol.csv\"  \n",
    "df = pd.read_csv(input_datapath)"
   ]
  },
  {
   "attachments": {},
   "cell_type": "markdown",
   "metadata": {},
   "source": [
    "### Using OpenAI model ada for embeddings\n",
    "\n",
    "OpenAI offers one second-generation embedding model (denoted by -002 in the model ID) and 16 first-generation models (denoted by -001 in the model ID).\n",
    "We recommend using text-embedding-ada-002 for nearly all use cases. It’s better, cheaper, and simpler to use. "
   ]
  },
  {
   "attachments": {},
   "cell_type": "markdown",
   "metadata": {},
   "source": [
    "#### Initialize Embeddings model "
   ]
  },
  {
   "cell_type": "code",
   "execution_count": null,
   "metadata": {},
   "outputs": [],
   "source": [
    "# embedding model parameters\n",
    "# encoding for text-embedding-ada-002\n",
    "embedding_encoding = \"cl100k_base\"  \n",
    "# the maximum for text-embedding-ada-002 is 8191\n",
    "max_tokens = 8000 \n",
    "# the number of reviews to embed\n",
    "top_n = 1000\n",
    "encoding = tiktoken.get_encoding(embedding_encoding)"
   ]
  },
  {
   "attachments": {},
   "cell_type": "markdown",
   "metadata": {},
   "source": [
    "#### Count nr of tokens in each row"
   ]
  },
  {
   "cell_type": "code",
   "execution_count": null,
   "metadata": {},
   "outputs": [],
   "source": [
    "# skip Recipes that are too long to embed > max_tokens\n",
    "df[\"n_tokens\"] = df.Recipe.apply(lambda x: len(encoding.encode(x)))\n",
    "df = df[df.n_tokens <= max_tokens].tail(top_n)"
   ]
  },
  {
   "attachments": {},
   "cell_type": "markdown",
   "metadata": {},
   "source": [
    "#### Create embeddings"
   ]
  },
  {
   "cell_type": "code",
   "execution_count": null,
   "metadata": {},
   "outputs": [],
   "source": [
    "# This may take a few minutes\n",
    "df[\"embedding\"] = df.Recipe.apply(lambda x: get_embedding(x, engine=OPENAI_EMBEDDING_MODEL_NAME))\n",
    "# save the file\n",
    "df.to_csv(\"./data/recipes_onecol_with_embeddings.csv\")"
   ]
  },
  {
   "attachments": {},
   "cell_type": "markdown",
   "metadata": {},
   "source": [
    "#### Read embeddings"
   ]
  },
  {
   "cell_type": "code",
   "execution_count": 6,
   "metadata": {},
   "outputs": [],
   "source": [
    "datafile_path = \"./data/recipes_onecol_with_embeddings.csv\"\n",
    "df = pd.read_csv(datafile_path)\n",
    "# convert the string representation of the embedding to a numpy array\n",
    "df[\"embedding\"] = df.embedding.apply(eval).apply(np.array)"
   ]
  },
  {
   "attachments": {},
   "cell_type": "markdown",
   "metadata": {},
   "source": [
    "#### Define a function to ask a question and get an answer from GPT-3.5"
   ]
  },
  {
   "cell_type": "code",
   "execution_count": 7,
   "metadata": {},
   "outputs": [],
   "source": [
    "def ask_question(question):\n",
    "    n=1\n",
    "    question_embedding = get_embedding(\n",
    "        question,\n",
    "        engine=OPENAI_EMBEDDING_DEPLOYMENT_NAME\n",
    "    )\n",
    "    df[\"similarity\"] = df.embedding.apply(lambda x: cosine_similarity(x, question_embedding))\n",
    "\n",
    "    results = (\n",
    "        df.sort_values(\"similarity\", ascending=False)\n",
    "        .head(n)\n",
    "    )\n",
    "    answer =  ' '.join(results.Recipe.tolist()) \n",
    "    print(\"Answer:\", answer)"
   ]
  },
  {
   "attachments": {},
   "cell_type": "markdown",
   "metadata": {},
   "source": [
    "#### Berries is similar to raspberries"
   ]
  },
  {
   "cell_type": "code",
   "execution_count": 9,
   "metadata": {},
   "outputs": [
    {
     "name": "stdout",
     "output_type": "stream",
     "text": [
      "Answer: Recipe: Raspberry Sundaes with Chocolate Sauce and Roasted Almonds - Ingredients: 6 ounces bittersweet chocolate, finely chopped;3/4 cup water;2/3 cups sugar;2 tablespoons honey;3 tablespoons unsalted butter;Pinch of kosher salt;1 pint fresh raspberries (12 ounces);2 tablespoons sugar;2 tablespoons elderflower liqueur, such as St-Germain;2 tablespoons fresh lemon juice;2 pints vanilla ice cream;Chopped roasted unsalted almonds, for garnish- Instructions: To make the chocolate sauce, place a saucepan over medium-low heat, combine the chocolate, and water, vigorously stirring until completely melted and smooth. Let it come to a low simmer until small bubbles appear around the outside. Add sugar, honey and keep at a low simmer until thickened, about 3 minutes. Remove from heat and stir in butter and salt. Chocolate sauce will smooth out at is cools to room temperature. Store in an airtight container. In a bowl, gently toss together the raspberries, sugar, elderflower liqueur, and lemon juice. Let stand in the refrigerator for 30 minutes (or up to 2 hours) before serving. Assemble the sundae: Scoop ice cream into individual bowls. Top with chocolate sauce, almonds, and macerated raspberries.\n",
      "To make the chocolate sauce, place a saucepan over medium-low heat, combine the chocolate, and water, vigorously stirring until completely melted and smooth. Let it come to a low simmer until small bubbles appear around the outside. Add sugar, honey and keep at a low simmer until thickened, about 3 minutes. Remove from heat and stir in butter and salt. Chocolate sauce will smooth out at is cools to room temperature. Store in an airtight container.\n",
      "In a bowl, gently toss together the raspberries, sugar, elderflower liqueur, and lemon juice. Let stand in the refrigerator for 30 minutes (or up to 2 hours) before serving.\n",
      "Assemble the sundae: Scoop ice cream into individual bowls. Top with chocolate sauce, almonds, and macerated raspberries.\n"
     ]
    }
   ],
   "source": [
    "ask_question(\"Chocolate and berries\")"
   ]
  },
  {
   "attachments": {},
   "cell_type": "markdown",
   "metadata": {},
   "source": [
    "#### Bukgur instead of Bulgur"
   ]
  },
  {
   "cell_type": "code",
   "execution_count": 14,
   "metadata": {},
   "outputs": [
    {
     "name": "stdout",
     "output_type": "stream",
     "text": [
      "Answer: Recipe: Bulgur Veggie Burgers with Lime Mayonnaise - Ingredients: 1/2 cup chopped onion, divided;1 tablespoon olive oil plus additional for brushing;1/2 cup bulgur;1 cup water;1 cup canned pinto beans, rinsed and drained;1 1/2 tablespoon soy sauce;3/4 cup walnuts (2 1/2 ounces);2 garlic cloves, coarsely chopped;1/2 cup packed cilantro sprigs;3/4 teaspoon ground cumin;1/4 teaspoon cayenne;1/4 cup mayonnaise;1/4 teaspoon grated lime zest;1/2 teaspoon fresh lime juice;4 slices multi-grain bread,toasted;Equipment: a perforated grill sheet;Accompaniments: lettuce; sliced tomato- Instructions: Cook half of onion with 1/4 teaspoon salt in oil in a small heavy saucepan over medium heat, stirring occasionally, until golden, 5 to 7 minutes. Add bulgur and water and cook, covered, over low heat until water is absorbed, 15 to 18 minutes. Transfer to a bowl and stir in beans and soy sauce. Pulse bulgur mixture, walnuts, garlic, cilantro, cumin, cayenne, a rounded 1/4 teaspoon salt, 1/2 teaspoon pepper, and remaining onion in a food processor until finely chopped. Form rounded 1/2 cups of mixture into 4 (31/2-inch-diameter) patties. Chill at least 10 minutes. While patties chill, stir together mayonnaise, zest, and juice. Prepare grill for direct-heat cooking over medium-hot charcoal (medium heat for gas). Put perforated grill sheet on grill and preheat 10 minutes. Brush patties all over with oil. Oil grill sheet, then grill burgers on grill sheet, covered only if using a gas grill, carefully turning once, until golden brown, about 8 minutes total. Serve burgers open-faced on toast with lime mayonnaise.\n",
      "Cook half of onion with 1/4 teaspoon salt in oil in a small heavy saucepan over medium heat, stirring occasionally, until golden, 5 to 7 minutes. Add bulgur and water and cook, covered, over low heat until water is absorbed, 15 to 18 minutes. Transfer to a bowl and stir in beans and soy sauce.\n",
      "Pulse bulgur mixture, walnuts, garlic, cilantro, cumin, cayenne, a rounded 1/4 teaspoon salt, 1/2 teaspoon pepper, and remaining onion in a food processor until finely chopped.\n",
      "Form rounded 1/2 cups of mixture into 4 (31/2-inch-diameter) patties. Chill at least 10 minutes.\n",
      "While patties chill, stir together mayonnaise, zest, and juice.\n",
      "Prepare grill for direct-heat cooking over medium-hot charcoal (medium heat for gas). Put perforated grill sheet on grill and preheat 10 minutes.\n",
      "Brush patties all over with oil.\n",
      "Oil grill sheet, then grill burgers on grill sheet, covered only if using a gas grill, carefully turning once, until golden brown, about 8 minutes total.\n",
      "Serve burgers open-faced on toast with lime mayonnaise.\n"
     ]
    }
   ],
   "source": [
    "ask_question(\"Bukgur vegan recipe\")"
   ]
  },
  {
   "cell_type": "code",
   "execution_count": 18,
   "metadata": {},
   "outputs": [
    {
     "name": "stdout",
     "output_type": "stream",
     "text": [
      "Answer: Recipe: Soft Fish Tacos - Ingredients: 1/4 cup mayonnaise;1/4 cup ketchup;1/4 cup crema mexicana*;1 cup all purpose flour;1 teaspoon fine sea salt;1/2 teaspoon ground pepper;1 cup dark beer, room temperature;13/4 pounds halibut, cut into 5x3/4-inch strips;1 lime, halved crosswise;12 white corn tortillas;Vegetable oil (for deep-frying);1 1/2 cups shredded red cabbage;2 large tomatoes, chopped;Lime wedges;Bottled hot pepper sauce- Instructions: For sauce: Mix all ingredients in bowl; season with salt and pepper.\n",
      "Mix all ingredients in bowl; season with salt and pepper.\n",
      "For batter and fish: Whisk flour, salt, and pepper in bowl; pour in beer, whisking until batter is smooth. Let stand 15 minutes. Sprinkle fish with salt and pepper. Squeeze some lime juice over each strip. Let stand 15 minutes. Mix fish into batter. Preheat oven to 200°F. Heat skillet over medium heat. Stack 2 tortillas. Sprinkle top with water. Place in skillet, wet side down. Heat 1 minute. Sprinkle top with water. Turn stack over; heat 1 minute. Transfer stack to large sheet of heavy-duty foil. Repeat. Enclose tortillas in foil. Place in oven. Pour oil into medium skillet to reach depth of 1 inch. Attach deep-fry thermometer; heat oil to 350°F. Slide 4 fish strips into oil. Fry until golden, about 4 minutes. Transfer fish to paper-towel-lined baking sheet; place in oven. Repeat. Fill each warm tortilla with 2 fish strips. Top with sauce, cabbage, tomato, squeeze of lime, and dash of hot pepper sauce.\n",
      "Whisk flour, salt, and pepper in bowl; pour in beer, whisking until batter is smooth. Let stand 15 minutes.\n",
      "Sprinkle fish with salt and pepper. Squeeze some lime juice over each strip. Let stand 15 minutes. Mix fish into batter.\n",
      "Preheat oven to 200°F. Heat skillet over medium heat. Stack 2 tortillas. Sprinkle top with water. Place in skillet, wet side down. Heat 1 minute. Sprinkle top with water. Turn stack over; heat 1 minute. Transfer stack to large sheet of heavy-duty foil. Repeat. Enclose tortillas in foil. Place in oven.\n",
      "Pour oil into medium skillet to reach depth of 1 inch. Attach deep-fry thermometer; heat oil to 350°F. Slide 4 fish strips into oil. Fry until golden, about 4 minutes. Transfer fish to paper-towel-lined baking sheet; place in oven. Repeat.\n",
      "Fill each warm tortilla with 2 fish strips. Top with sauce, cabbage, tomato, squeeze of lime, and dash of hot pepper sauce.\n",
      "*Cultured Mexican cream with a slightly nutty flavor and consistency of thin sour cream.\n",
      "*Cultured Mexican cream with a slightly nutty flavor and consistency of thin sour cream.\n"
     ]
    }
   ],
   "source": [
    "ask_question(\"Fish no alcohol\")"
   ]
  },
  {
   "cell_type": "code",
   "execution_count": 17,
   "metadata": {},
   "outputs": [
    {
     "name": "stdout",
     "output_type": "stream",
     "text": [
      "Answer: Recipe: Soft Fish Tacos - Ingredients: 1/4 cup mayonnaise;1/4 cup ketchup;1/4 cup crema mexicana*;1 cup all purpose flour;1 teaspoon fine sea salt;1/2 teaspoon ground pepper;1 cup dark beer, room temperature;13/4 pounds halibut, cut into 5x3/4-inch strips;1 lime, halved crosswise;12 white corn tortillas;Vegetable oil (for deep-frying);1 1/2 cups shredded red cabbage;2 large tomatoes, chopped;Lime wedges;Bottled hot pepper sauce- Instructions: For sauce: Mix all ingredients in bowl; season with salt and pepper.\n",
      "Mix all ingredients in bowl; season with salt and pepper.\n",
      "For batter and fish: Whisk flour, salt, and pepper in bowl; pour in beer, whisking until batter is smooth. Let stand 15 minutes. Sprinkle fish with salt and pepper. Squeeze some lime juice over each strip. Let stand 15 minutes. Mix fish into batter. Preheat oven to 200°F. Heat skillet over medium heat. Stack 2 tortillas. Sprinkle top with water. Place in skillet, wet side down. Heat 1 minute. Sprinkle top with water. Turn stack over; heat 1 minute. Transfer stack to large sheet of heavy-duty foil. Repeat. Enclose tortillas in foil. Place in oven. Pour oil into medium skillet to reach depth of 1 inch. Attach deep-fry thermometer; heat oil to 350°F. Slide 4 fish strips into oil. Fry until golden, about 4 minutes. Transfer fish to paper-towel-lined baking sheet; place in oven. Repeat. Fill each warm tortilla with 2 fish strips. Top with sauce, cabbage, tomato, squeeze of lime, and dash of hot pepper sauce.\n",
      "Whisk flour, salt, and pepper in bowl; pour in beer, whisking until batter is smooth. Let stand 15 minutes.\n",
      "Sprinkle fish with salt and pepper. Squeeze some lime juice over each strip. Let stand 15 minutes. Mix fish into batter.\n",
      "Preheat oven to 200°F. Heat skillet over medium heat. Stack 2 tortillas. Sprinkle top with water. Place in skillet, wet side down. Heat 1 minute. Sprinkle top with water. Turn stack over; heat 1 minute. Transfer stack to large sheet of heavy-duty foil. Repeat. Enclose tortillas in foil. Place in oven.\n",
      "Pour oil into medium skillet to reach depth of 1 inch. Attach deep-fry thermometer; heat oil to 350°F. Slide 4 fish strips into oil. Fry until golden, about 4 minutes. Transfer fish to paper-towel-lined baking sheet; place in oven. Repeat.\n",
      "Fill each warm tortilla with 2 fish strips. Top with sauce, cabbage, tomato, squeeze of lime, and dash of hot pepper sauce.\n",
      "*Cultured Mexican cream with a slightly nutty flavor and consistency of thin sour cream.\n",
      "*Cultured Mexican cream with a slightly nutty flavor and consistency of thin sour cream.\n"
     ]
    }
   ],
   "source": [
    "ask_question(\"Fish with alcohol\")"
   ]
  }
 ],
 "metadata": {
  "kernelspec": {
   "display_name": ".venv",
   "language": "python",
   "name": "python3"
  },
  "language_info": {
   "codemirror_mode": {
    "name": "ipython",
    "version": 3
   },
   "file_extension": ".py",
   "mimetype": "text/x-python",
   "name": "python",
   "nbconvert_exporter": "python",
   "pygments_lexer": "ipython3",
   "version": "3.10.11"
  },
  "orig_nbformat": 4
 },
 "nbformat": 4,
 "nbformat_minor": 2
}

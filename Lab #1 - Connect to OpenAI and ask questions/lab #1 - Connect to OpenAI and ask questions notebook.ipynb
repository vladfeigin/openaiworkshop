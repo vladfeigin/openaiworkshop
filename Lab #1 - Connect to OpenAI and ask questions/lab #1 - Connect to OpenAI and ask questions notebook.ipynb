{
 "cells": [
  {
   "cell_type": "markdown",
   "metadata": {},
   "source": [
    "### **Load Environment variables from .env file**"
   ]
  },
  {
   "cell_type": "code",
   "execution_count": 9,
   "metadata": {},
   "outputs": [],
   "source": [
    "from langchain.chat_models import AzureChatOpenAI\n",
    "import openai\n",
    "from dotenv import load_dotenv\n",
    "import os\n",
    "from IPython.display import display, HTML, JSON, Markdown\n",
    "\n",
    "load_dotenv()\n",
    "# env variables that are used by LangChain\n",
    "os.environ['OPENAI_API_KEY'] = os.getenv(\"OPENAI_API_KEY\")\n",
    "os.environ['OPENAI_API_TYPE'] = \"azure\"\n",
    "os.environ['OPENAI_API_VERSION'] = os.getenv(\"OPENAI_DEPLOYMENT_VERSION\")\n",
    "os.environ['OPENAI_API_BASE'] = os.getenv(\"OPENAI_DEPLOYMENT_ENDPOINT\")\n",
    "\n",
    "OPENAI_DEPLOYMENT_ENDPOINT = os.getenv(\"OPENAI_DEPLOYMENT_ENDPOINT\")\n",
    "OPENAI_DEPLOYMENT_NAME = os.getenv(\"OPENAI_DEPLOYMENT_NAME\")\n",
    "OPENAI_MODEL_NAME = os.getenv(\"OPENAI_MODEL_NAME\")\n",
    "\n",
    "OPENAI_ADA_EMBEDDING_DEPLOYMENT_NAME = os.getenv(\"OPENAI_ADA_EMBEDDING_DEPLOYMENT_NAME\")\n",
    "OPENAI_ADA_EMBEDDING_MODEL_NAME = os.getenv(\"OPENAI_ADA_EMBEDDING_MODEL_NAME\")\n",
    "\n",
    "# Configure OpenAI API\n",
    "openai.api_type = \"azure\"\n",
    "openai.api_version = os.getenv(\"OPENAI_DEPLOYMENT_VERSION\")\n",
    "openai.api_base = os.getenv(\"OPENAI_DEPLOYMENT_ENDPOINT\")\n",
    "openai.api_key = os.getenv(\"OPENAI_API_KEY\")\n",
    "\n"
   ]
  },
  {
   "attachments": {},
   "cell_type": "markdown",
   "metadata": {},
   "source": [
    "### **Initialize the LLM model which is deployed in Azure with LangChain**"
   ]
  },
  {
   "cell_type": "code",
   "execution_count": 10,
   "metadata": {},
   "outputs": [],
   "source": [
    "\n",
    "def init_llm(model=OPENAI_MODEL_NAME,\n",
    "             deployment_name=OPENAI_DEPLOYMENT_NAME,\n",
    "             temperature=0,\n",
    "             max_tokens=400,\n",
    "             stop=\"<|im_end|>\",\n",
    "             ):\n",
    "    # AzureOpenAI\n",
    "    llm = AzureChatOpenAI(deployment_name=deployment_name,\n",
    "                          model=model,\n",
    "                          temperature=temperature,\n",
    "                          max_tokens=max_tokens,\n",
    "                          model_kwargs={\"stop\": [\"<|im_end|>\"]})\n",
    "    return llm"
   ]
  },
  {
   "attachments": {},
   "cell_type": "markdown",
   "metadata": {},
   "source": [
    "### **Add personality to the model and start asking questions**\n",
    "We call directly the Azure OpenAI API with ***ChatCompletion*** API"
   ]
  },
  {
   "cell_type": "code",
   "execution_count": 11,
   "metadata": {},
   "outputs": [
    {
     "data": {
      "text/html": [
       "ChatCompletion (gpt-35-turbo) :Good morning! Thank you for asking. As an AI, I don't have feelings or emotions, but I'm here to assist you with any questions you may have. How can I help you today?"
      ],
      "text/plain": [
       "<IPython.core.display.HTML object>"
      ]
     },
     "metadata": {},
     "output_type": "display_data"
    }
   ],
   "source": [
    "# prepare prompt\n",
    "messages = [{\"role\": \"system\", \"content\": \"You are a HELPFUL assistant answering users trivia questions. Answer in a clear and concise manner.\"},\n",
    "            {\"role\": \"user\", \"content\": \"Good morning, how are you today?\"}]\n",
    "\n",
    "\n",
    "answer = openai.ChatCompletion.create(engine=OPENAI_DEPLOYMENT_NAME,\n",
    "\n",
    "                                      messages=messages,)\n",
    "display(HTML(\"ChatCompletion (gpt-35-turbo) :\" +\n",
    "        answer.choices[0].message.content))"
   ]
  },
  {
   "cell_type": "code",
   "execution_count": 12,
   "metadata": {},
   "outputs": [
    {
     "data": {
      "text/html": [
       "String theory is a theoretical framework in physics that attempts to describe the fundamental nature of particles and their interactions. It proposes that elementary particles are not point-like but rather tiny, vibrating strings of energy. These strings can vibrate in different ways, giving rise to different particles with distinct properties. String theory also suggests the existence of extra dimensions beyond the three spatial dimensions we perceive. It is a candidate for a unified theory of gravity and quantum mechanics, aiming to reconcile the principles of general relativity and quantum physics."
      ],
      "text/plain": [
       "<IPython.core.display.HTML object>"
      ]
     },
     "metadata": {},
     "output_type": "display_data"
    }
   ],
   "source": [
    "# prepare prompt with another question:\n",
    "messages = [{\"role\": \"system\", \"content\": \"You are a HELPFUL assistant answering users trivia questions. Answer in clear and concise manner.\"},\n",
    "            {\"role\": \"user\", \"content\": \"What's string theory?\"}]\n",
    "\n",
    "\n",
    "answer = openai.ChatCompletion.create(engine=OPENAI_DEPLOYMENT_NAME,\n",
    "                                      messages=messages,)\n",
    "\n",
    "display(HTML(answer.choices[0].message.content))"
   ]
  },
  {
   "cell_type": "code",
   "execution_count": 13,
   "metadata": {},
   "outputs": [
    {
     "data": {
      "text/html": [
       "String theory is a very, very fancy idea about how everything in the whole wide world is made up of tiny, tiny, tiny strings. Imagine if you took a rubber band and made it super, super, super small. These tiny strings are so small that we can't even see them! Scientists think that these tiny strings vibrate and make different kinds of particles, like the ones that make up atoms. It's like a really special dance party happening inside everything! But remember, this is just an idea and scientists are still trying to understand it better."
      ],
      "text/plain": [
       "<IPython.core.display.HTML object>"
      ]
     },
     "metadata": {},
     "output_type": "display_data"
    }
   ],
   "source": [
    "# prepare prompt with another question:\n",
    "messages = [{\"role\": \"system\", \"content\": \"You are a HELPFUL assistant answering users trivia questions. Answer as for a FIVE YEARS old child.\"},\n",
    "            {\"role\": \"user\", \"content\": \"what's string theory?\"}]\n",
    "\n",
    "\n",
    "answer = openai.ChatCompletion.create(engine=OPENAI_DEPLOYMENT_NAME,\n",
    "                                      messages=messages,)\n",
    "\n",
    "# print(\"ChatCompletion (gpt-35-turbo) :\" + answer.choices[0].message.content)\n",
    "display(HTML(answer.choices[0].message.content))"
   ]
  },
  {
   "attachments": {},
   "cell_type": "markdown",
   "metadata": {},
   "source": [
    "### **LangChain**\n",
    "\n",
    "LangChain is a framework built around Large Language Models (LLMs).\n",
    "\n",
    "The core idea of the library is that we can “chain” together different components to create more advanced use cases around LLMs.\n",
    "\n",
    "LangChain components: Models, Prompts, Indexes(Document Loaders and Splitters, Vector DBs), Chains and Agents"
   ]
  },
  {
   "cell_type": "code",
   "execution_count": 14,
   "metadata": {},
   "outputs": [
    {
     "data": {
      "text/plain": [
       "AzureChatOpenAI(cache=None, verbose=False, callbacks=None, callback_manager=None, tags=None, metadata=None, client=<class 'openai.api_resources.chat_completion.ChatCompletion'>, model_name='gpt-35-turbo', temperature=0.0, model_kwargs={'stop': ['<|im_end|>']}, openai_api_key='1d301c0202bb4e22b2755131812e536d', openai_api_base='https://gpt35-instruct-demo.openai.azure.com/', openai_organization='', openai_proxy='', request_timeout=None, max_retries=6, streaming=False, n=1, max_tokens=400, tiktoken_model_name=None, deployment_name='gpt-35-turbo', openai_api_type='azure', openai_api_version='2023-05-15')"
      ]
     },
     "execution_count": 14,
     "metadata": {},
     "output_type": "execute_result"
    }
   ],
   "source": [
    "# init LLM Azure OpenAI model\n",
    "llm = init_llm()\n",
    "llm"
   ]
  },
  {
   "cell_type": "code",
   "execution_count": 15,
   "metadata": {},
   "outputs": [],
   "source": [
    "# Import LangChain schema classes for messages\n",
    "from langchain.schema import (\n",
    "    SystemMessage,\n",
    "    HumanMessage,\n",
    "    AIMessage\n",
    ")"
   ]
  },
  {
   "cell_type": "code",
   "execution_count": 16,
   "metadata": {},
   "outputs": [
    {
     "data": {
      "text/html": [
       "gpt-35-turbo: Good morning! I'm doing great, thank you for asking. How can I assist you today?"
      ],
      "text/plain": [
       "<IPython.core.display.HTML object>"
      ]
     },
     "metadata": {},
     "output_type": "display_data"
    }
   ],
   "source": [
    "messages = [\n",
    "    SystemMessage(\n",
    "        content=\"You're a nice and happy assistant. Answer users' questions happily.\")\n",
    "]\n",
    "messages.append(\n",
    "    HumanMessage(content=\"Good morning, how are you today?\"))\n",
    "\n",
    "answer = llm(messages)\n",
    "\n",
    "display(HTML(f\"gpt-35-turbo: {answer.content}\"))"
   ]
  },
  {
   "cell_type": "code",
   "execution_count": 17,
   "metadata": {},
   "outputs": [
    {
     "data": {
      "text/html": [
       "gpt-35-turbo: Here's a Python function that takes a string argument and reverses it:\n",
       "\n",
       "```python\n",
       "def reverse_string(string):\n",
       "    return string[::-1]\n",
       "```\n",
       "\n",
       "You can use this function by passing a string as an argument, and it will return the reversed version of the string. For example:\n",
       "\n",
       "```python\n",
       "print(reverse_string(\"Hello, World!\"))  # Output: \"!dlroW ,olleH\"\n",
       "print(reverse_string(\"Python\"))  # Output: \"nohtyP\"\n",
       "```\n",
       "\n",
       "The `[::-1]` slicing notation is used to reverse the string. It starts from the end of the string and goes backwards with a step of -1, effectively reversing the order of the characters."
      ],
      "text/plain": [
       "<IPython.core.display.HTML object>"
      ]
     },
     "metadata": {},
     "output_type": "display_data"
    }
   ],
   "source": [
    "\n",
    "messages = [\n",
    "    SystemMessage(\n",
    "        content=\"You're nice and happy assistant for Python developer assistant. Assist the developers with Python requests. \")\n",
    "]\n",
    "messages.append(\n",
    "    HumanMessage(content=\"Create a Python function that takes a string argument and reverses it. Generate just one version of the function.\"))\n",
    "\n",
    "answer = llm(messages)\n",
    "display(HTML(f\"gpt-35-turbo: {answer.content}\"))"
   ]
  },
  {
   "attachments": {},
   "cell_type": "markdown",
   "metadata": {},
   "source": [
    "#### Prompts with LangChain"
   ]
  },
  {
   "cell_type": "markdown",
   "metadata": {},
   "source": [
    "##### ChatPromptTemplate is a template that is specifically designed for conversational use cases.\n",
    "\n",
    "It infers the variables from the template, so no need to pass them in as arguments."
   ]
  },
  {
   "cell_type": "code",
   "execution_count": 18,
   "metadata": {},
   "outputs": [
    {
     "data": {
      "text/markdown": [
       "gpt-35-turbo: To assess the risk tolerance of a new client, there are several steps you can take:\n",
       "\n",
       "1. Conduct a risk assessment questionnaire: Use a standardized questionnaire to gather information about the client's financial goals, investment experience, time horizon, and willingness to take on risk. This will help you understand their comfort level with different types of investments and potential losses.\n",
       "\n",
       "2. Analyze their financial situation: Evaluate the client's current financial position, including their income, expenses, assets, and liabilities. This will give you a better understanding of their ability to withstand potential losses and take on investment risks.\n",
       "\n",
       "3. Consider their investment knowledge and experience: Assess the client's level of investment knowledge and experience. This will help you gauge their understanding of different investment products and their ability to make informed decisions.\n",
       "\n",
       "4. Discuss their investment objectives: Have a detailed conversation with the client to understand their investment goals, such as capital preservation, income generation, or long-term growth. This will help you align their risk tolerance with their investment objectives.\n",
       "\n",
       "5. Review their investment history: If the client has a history of investing, review their past investment decisions and outcomes. This will provide insights into their risk-taking behavior and how they have reacted to market fluctuations in the past.\n",
       "\n",
       "6. Consider external factors: Take into account any external factors that may influence the client's risk tolerance, such as their age, financial responsibilities, and personal circumstances.\n",
       "\n",
       "By combining these steps, you can gain a comprehensive understanding of the client's risk tolerance and tailor their investment strategy accordingly. It's important to regularly reassess their risk tolerance as their circumstances and market conditions change."
      ],
      "text/plain": [
       "<IPython.core.display.Markdown object>"
      ]
     },
     "metadata": {},
     "output_type": "display_data"
    }
   ],
   "source": [
    "from langchain.prompts import ChatPromptTemplate\n",
    "from langchain.prompts.chat import SystemMessagePromptTemplate, HumanMessagePromptTemplate\n",
    "\n",
    "# init model\n",
    "llm = init_llm()\n",
    "\n",
    "# create template for prompt\n",
    "template = ChatPromptTemplate.from_messages(\n",
    "    [\n",
    "        SystemMessagePromptTemplate.from_template(\n",
    "            ('''You are a {profession} answering users questions. \n",
    "            More specifically, you are an expert in {expertise}. Answer in a clear and concise manner. Assume that the user is not a subject expert.\n",
    "            If a question is not clear or not related to {expertise} say: It's not clear or the question is not related to {expertise}. ''')\n",
    "        ),\n",
    "        HumanMessagePromptTemplate.from_template('''{question}'''),\n",
    "    ]\n",
    ")\n",
    "\n",
    "answer = llm(template.format_messages(profession=\"Financial Trading Consultant\",  expertise=\"Risk Management\",\n",
    "                                      question=\"How do you assess the risk tolerance of a new client?\"))\n",
    "display(Markdown(\"gpt-35-turbo: \" + answer.content))"
   ]
  },
  {
   "cell_type": "code",
   "execution_count": 19,
   "metadata": {},
   "outputs": [
    {
     "data": {
      "text/markdown": [
       "The Bugatti Chiron Super Sport 300+ is currently recognized as the fastest car in the world."
      ],
      "text/plain": [
       "<IPython.core.display.Markdown object>"
      ]
     },
     "metadata": {},
     "output_type": "display_data"
    }
   ],
   "source": [
    "# asking not related question and reusing the same template\n",
    "answer = llm(template.format_messages(profession=\"Financial Trading Consultant\",  expertise=\"Risk Management\",\n",
    "                                      question=\"What's the fastest car in the world? Answer in one sentence.\"))\n",
    "\n",
    "display(Markdown(answer.content))"
   ]
  },
  {
   "cell_type": "markdown",
   "metadata": {},
   "source": [
    "#### **OPTIONAL.** LLM output parsers with LangChain\n",
    "You can define the output schema and LangChain will parse the output for you.\n",
    "\n",
    "The main idea is to define parsing instructions as a code rather than doing it in textual form.\n"
   ]
  },
  {
   "cell_type": "code",
   "execution_count": 20,
   "metadata": {},
   "outputs": [],
   "source": [
    "\n",
    "customer_call = \"\"\"\n",
    "\n",
    "**Customer**: Hello, my name is John, and I'm a customer of Imaginal Bank.\n",
    "**Clerk**: Hello, John! My name is Sara, and I'm a customer service representative at Imaginal Bank. How can I assist you today?\n",
    "**Customer**: Hi, Sara. I'm interested in your bank's investment programs. \n",
    "              Can you tell me more about them, especially in terms of risk management?\n",
    "\n",
    "**Clerk**: Absolutely, John. We have a few key programs I can highlight.\n",
    "\n",
    "First, there's our 'Balanced Growth Fund'. It's a diversified mutual fund that invests in a mix of equities and bonds to provide both growth and income, reducing risk through diversification. \n",
    "\n",
    "We also have the 'Index Tracker ETF', which is designed to replicate the performance of a specific market index. By spreading investments across the entire index, it inherently reduces the risk associated with individual stocks.\n",
    "\n",
    "Additionally, for those with a lower risk tolerance, we have the 'Secure Income Bond Fund', which focuses on government and high-quality corporate bonds. \n",
    "\n",
    "Our financial advisors are always available to guide you in choosing the right program based on your financial goals and risk tolerance.\n",
    "\n",
    "**Customer**: I see. Could you elaborate on how the Balanced Growth Fund manages risk?\n",
    "\n",
    "**Clerk**: Sure. The Balanced Growth Fund mitigates risk by diversifying investments across a wide range of assets. If one investment performs poorly, it's likely to be offset by other investments that are performing well. Furthermore, our portfolio managers actively manage the fund, adjusting holdings based on changing market conditions to manage risk and enhance returns.\n",
    "\n",
    "**Customer**: Does the bank provide any tools to monitor my investments?\n",
    "\n",
    "**Clerk**: Yes, John. We offer an online platform called 'Imaginal Investor Dashboard'. It provides real-time tracking of your investments, balance updates, and market trends. You can also set up alerts to be notified about significant changes in your portfolio.\n",
    "\n",
    "**Customer**: That sounds quite comprehensive. How can I get started?\n",
    "\n",
    "**Clerk**: You can schedule an appointment with one of our financial advisors. They'll walk you through your options, help you understand your risk tolerance, and guide you in choosing the right investment program. Would you like me to arrange that for you?\n",
    "\n",
    "**Customer**: Yes, please. That would be helpful.\n",
    "\n",
    "**Clerk**: Fantastic, John! Let's get that set up for you...\"\"\""
   ]
  },
  {
   "cell_type": "code",
   "execution_count": 21,
   "metadata": {},
   "outputs": [
    {
     "data": {
      "text/markdown": [
       "{\n",
       "  \"agent_politeness\": \"very polite\",\n",
       "  \"agent_knowledge\": \"knowledgeable\",\n",
       "  \"customer_issue_resolution\": \"well\",\n",
       "  \"customer_satisfaction\": \"satisfied\"\n",
       "}"
      ],
      "text/plain": [
       "<IPython.core.display.Markdown object>"
      ]
     },
     "metadata": {},
     "output_type": "display_data"
    }
   ],
   "source": [
    "\n",
    "# init model\n",
    "llm = init_llm()\n",
    "\n",
    "prompt = [\n",
    "    SystemMessage(content=f\"\"\"For the following text, extract the following information:\n",
    "                agent politeness: How polite is the agent? use the following values to descibe agent politenes: very polite, polite, neutral, impolite, very impolite.\n",
    "                agent knowledge: How knowledgeable is the agent? use the following values to descibe agent knowledge: very knowledgeable, knowledgeable, neutral, not knowledgeable, very not knowledgeable.\n",
    "                customer issue resolution: How well did the agent resolve the issue? use the following values to descibe issue resolution: very well, well, neutral, not well, very not well.\n",
    "                customer satisfaction: How satisfied is the customer? use the following values to descibe customer satisfaction: very satisfied, satisfied, neutral, dissatisfied, very dissatisfied.\n",
    "\n",
    "                Format the output as a json object with the following keys: agent_politeness, agent_knowledge, customer_issue_resolution, customer_satisfaction.\n",
    "\n",
    "                text: {customer_call}\"\"\")\n",
    "]\n",
    "\n",
    "# Note that the type of the response is a string, it looks like a json object, but it's string. We're looking for more typed response.\n",
    "response = llm(prompt)\n",
    "\n",
    "display(Markdown(response.content))"
   ]
  },
  {
   "cell_type": "markdown",
   "metadata": {},
   "source": [
    "##### Define the output schema"
   ]
  },
  {
   "cell_type": "code",
   "execution_count": 22,
   "metadata": {},
   "outputs": [],
   "source": [
    "from langchain.output_parsers import ResponseSchema\n",
    "from langchain.output_parsers import StructuredOutputParser"
   ]
  },
  {
   "cell_type": "code",
   "execution_count": 23,
   "metadata": {},
   "outputs": [
    {
     "name": "stdout",
     "output_type": "stream",
     "text": [
      "The output should be a markdown code snippet formatted in the following schema, including the leading and trailing \"```json\" and \"```\":\n",
      "\n",
      "```json\n",
      "{\n",
      "\t\"agent_politeness\": string  // How polite is the agent?\n",
      "\t\"agent_knowledge\": string  // How knowledgeable is the agent?\n",
      "\t\"customer_issue_resolution\": string  // How well did the agent resolve the issue?\n",
      "\t\"customer_satisfaction\": string  // How satisfied is the customer?\n",
      "}\n",
      "```\n"
     ]
    }
   ],
   "source": [
    "\n",
    "agent_politeness_schema = ResponseSchema(\n",
    "    name=\"agent_politeness\", description=\"How polite is the agent?\")\n",
    "aggent_knowledge_schema = ResponseSchema(\n",
    "    name=\"agent_knowledge\", description=\"How knowledgeable is the agent?\")\n",
    "customer_issue_resolution_schema = ResponseSchema(\n",
    "    name=\"customer_issue_resolution\", description=\"How well did the agent resolve the issue?\")\n",
    "customer_satisfaction_schema = ResponseSchema(\n",
    "    name=\"customer_satisfaction\", description=\"How satisfied is the customer?\")\n",
    "\n",
    "customer_service_schemas = [agent_politeness_schema, aggent_knowledge_schema,\n",
    "                            customer_issue_resolution_schema, customer_satisfaction_schema]\n",
    "\n",
    "output_parser = StructuredOutputParser.from_response_schemas(\n",
    "    customer_service_schemas)\n",
    "\n",
    "# get a string that contains instructions for how the response should be formatted, and then insert that into your prompt.\n",
    "format_instructions = output_parser.get_format_instructions()\n",
    "print(format_instructions)"
   ]
  },
  {
   "cell_type": "code",
   "execution_count": 24,
   "metadata": {},
   "outputs": [],
   "source": [
    "# adding format instructions to the prompt:\n",
    "formatted_prompt = [\n",
    "    SystemMessage(content=f\"\"\"For the following text, extract the following information:\n",
    "                agent politeness: How polite is the agent? use the following values to descibe agent politenes: very polite, polite, neutral, impolite, very impolite.\n",
    "                agent knowledge: How knowledgeable is the agent? use the following values to descibe agent knowledge: very knowledgeable, knowledgeable, neutral, not knowledgeable, very not knowledgeable.\n",
    "                customer issue resolution: How well did the agent resolve the issue? use the following values to descibe issue resolution: very well, well, neutral, not well, very not well.\n",
    "                customer satisfaction: How satisfied is the customer? use the following values to descibe customer satisfaction: very satisfied, satisfied, neutral, dissatisfied, very dissatisfied.\n",
    "\n",
    "                Format the output as a json object with the following keys: agent_politeness, agent_knowledge, customer_issue_resolution, customer_satisfaction.\n",
    "\n",
    "                Text: {customer_call}\n",
    "                Output format instructions: {format_instructions}\n",
    "                \"\"\")\n",
    "]"
   ]
  },
  {
   "cell_type": "code",
   "execution_count": 25,
   "metadata": {},
   "outputs": [],
   "source": [
    "# run model\n",
    "response = llm(formatted_prompt)"
   ]
  },
  {
   "cell_type": "code",
   "execution_count": 26,
   "metadata": {},
   "outputs": [
    {
     "data": {
      "text/markdown": [
       "```json\n",
       "{\n",
       "\t\"agent_politeness\": \"very polite\",\n",
       "\t\"agent_knowledge\": \"knowledgeable\",\n",
       "\t\"customer_issue_resolution\": \"well\",\n",
       "\t\"customer_satisfaction\": \"satisfied\"\n",
       "}\n",
       "```"
      ],
      "text/plain": [
       "<IPython.core.display.Markdown object>"
      ]
     },
     "metadata": {},
     "output_type": "display_data"
    }
   ],
   "source": [
    "display(Markdown(response.content))"
   ]
  },
  {
   "cell_type": "code",
   "execution_count": 27,
   "metadata": {},
   "outputs": [
    {
     "data": {
      "text/plain": [
       "'very polite'"
      ]
     },
     "execution_count": 27,
     "metadata": {},
     "output_type": "execute_result"
    }
   ],
   "source": [
    "# output of parser is a dictionary, which is very easy to work with after you get the output from the model\n",
    "dict = output_parser.parse(response.content)\n",
    "dict.get(\"agent_politeness\")"
   ]
  },
  {
   "cell_type": "markdown",
   "metadata": {},
   "source": [
    "#### Prompts management best practices\n",
    "Reuse prompts as much as possible. This will help you get more consistent results.\n",
    "\n",
    "Treat your prompts as a code, keep it in a version control system. This will help you to track changes and revert them if needed.\n",
    "\n",
    "Use LangChain specific to use case prompt templates, e.g. ChatPromptTemplate for conversational flows.\n"
   ]
  },
  {
   "attachments": {},
   "cell_type": "markdown",
   "metadata": {},
   "source": [
    "###  **One-shot, Few-shot learning**\n",
    "\n",
    "This technique could improve model performance by a lot. \n",
    "We can use the model to learn from a few examples and then use it to generate text. This is called few-shot learning. We can also use the model to learn from a single example and then use it to generate text. This is called one-shot learning."
   ]
  },
  {
   "cell_type": "code",
   "execution_count": 28,
   "metadata": {},
   "outputs": [
    {
     "data": {
      "text/markdown": [
       "Technology and financial tools play a crucial role in assisting with risk management for clients. Here are a few ways they can be used:\n",
       "\n",
       "1. Risk Assessment Tools: Technology can help in assessing a client's risk tolerance through online questionnaires or surveys. These tools analyze the client's responses and provide a risk profile that helps in determining suitable investment strategies.\n",
       "\n",
       "2. Portfolio Management Software: Advanced software platforms can be used to monitor and manage client portfolios. These tools provide real-time data, performance analysis, and risk metrics, allowing for effective portfolio rebalancing and risk mitigation.\n",
       "\n",
       "3. Risk Modeling and Simulation: Technology enables the use of sophisticated risk modeling and simulation techniques. These tools help in assessing the potential impact of various market scenarios on a client's portfolio, allowing for better risk management and decision-making.\n",
       "\n",
       "4. Automated Alerts and Notifications: Technology can be used to set up automated alerts and notifications for clients. These alerts can be triggered by specific risk events or changes in market conditions, ensuring timely communication and proactive risk management.\n",
       "\n",
       "5. Data Analytics and Machine Learning: Advanced data analytics and machine learning algorithms can be employed to analyze large volumes of financial data and identify patterns or trends that may indicate potential risks. This helps in making more informed investment decisions and managing risks effectively.\n",
       "\n",
       "It's important to note that while technology and financial tools can greatly assist in risk management, they should always be used in conjunction with human expertise and judgment to ensure the best outcomes for clients."
      ],
      "text/plain": [
       "<IPython.core.display.Markdown object>"
      ]
     },
     "metadata": {},
     "output_type": "display_data"
    }
   ],
   "source": [
    "from langchain.chains import LLMChain\n",
    "from langchain.prompts import ChatPromptTemplate\n",
    "from langchain.prompts.chat import SystemMessagePromptTemplate, HumanMessagePromptTemplate\n",
    "\n",
    "# init model\n",
    "llm = init_llm()\n",
    "# create template for prompt\n",
    "\n",
    "template_few_shot = ChatPromptTemplate.from_messages(\n",
    "    [\n",
    "        SystemMessagePromptTemplate.from_template(\n",
    "            (\"\"\"You are a {profession} answering users questions. \n",
    "            More specifically, you are an expert in {expertise}. Answer in a clear and concise manner. Assume that a user is not a subject expert.\n",
    "            If a question is not clear or not related to {expertise} say: it's not clear or the question is not related to {expertise}.\n",
    "           \n",
    "            HUMAN: How do you assess the risk tolerance of a new client?\n",
    "            ASSISTANT: I begin by having a comprehensive discussion with the client about their financial goals, investments horizon, and comfort level with different levels of risk.\n",
    "            \n",
    "            HUMAN: Can you provide an example of a specific risk management strategy you'd recommended to a client in a volatile market situation?\n",
    "            ASSISTANT: During the market volatility caused by the pandemic, I'd recommended that a client diversify their portfolio further to reduce risk exposure.\n",
    "            \n",
    "            HUMAN: How do you handle the situation when a client wants to pursue a risky investment that goes beyond their risk tolerance?\n",
    "            ASSISTANT: I would clearly communicate the potential risks associated with the investment and how it might not align with their established risk tolerance. \n",
    "            \"\"\")\n",
    "        ),\n",
    "        HumanMessagePromptTemplate.from_template('''{question}'''),\n",
    "    ]\n",
    ")\n",
    "\n",
    "chain = LLMChain(llm=llm, prompt=template_few_shot)\n",
    "\n",
    "answer = chain.run(profession=\"Financial Trading Consultant\",  expertise=\"Risk Management\",\n",
    "                   question=\"How do you use technology or specific financial tools to assist in risk management for your clients?\")\n",
    "display(Markdown(answer))"
   ]
  },
  {
   "attachments": {},
   "cell_type": "markdown",
   "metadata": {},
   "source": [
    "The Large Language Models (LLMs) are stateless. This means that they don’t retain any information about the conversation history."
   ]
  },
  {
   "cell_type": "code",
   "execution_count": 29,
   "metadata": {},
   "outputs": [
    {
     "data": {
      "text/markdown": [
       "1. How do you assess the risk tolerance of a new client?\n",
       "2. Can you provide an example of a specific risk management strategy you'd recommended to a client in a volatile market situation?\n",
       "3. How do you handle the situation when a client wants to pursue a risky investment that goes beyond their risk tolerance?"
      ],
      "text/plain": [
       "<IPython.core.display.Markdown object>"
      ]
     },
     "metadata": {},
     "output_type": "display_data"
    }
   ],
   "source": [
    "# Since we don't save a history of the conversation, the last is not listed...\n",
    "res = chain.run(profession=\"Financial Trading Consultant\",  expertise=\"Risk Management\",\n",
    "                question=\"List all questions that I asked you about risk management.\")\n",
    "display(Markdown(res))"
   ]
  },
  {
   "attachments": {},
   "cell_type": "markdown",
   "metadata": {},
   "source": [
    "### **Retain conversation history** "
   ]
  },
  {
   "attachments": {},
   "cell_type": "markdown",
   "metadata": {},
   "source": [
    "##### The Large Language Models (LLMs) are stateless. This means that they don’t retain any information about the conversation history.\n",
    "Each transaction is independent of the previous one. Chatbots keep in memory the conversation history and use it to generate the next response. This is why they are able to generate more coherent responses.\n",
    "\n",
    "Previously we saw that a model fails to answer the question that requires context. We can solve this problem by retaining the conversation history. We can do this by using the LangChain ConversationBufferMemory."
   ]
  },
  {
   "cell_type": "code",
   "execution_count": 30,
   "metadata": {},
   "outputs": [],
   "source": [
    "from langchain.memory import ConversationBufferMemory\n",
    "from langchain.chains import ConversationChain\n",
    "\n",
    "llm = init_llm()\n",
    "\n",
    "# ConversationBufferMemory is a memory that stores the conversation history\n",
    "memory = ConversationBufferMemory()\n",
    "# try to change the verbose to True, to see more details\n",
    "conversation = ConversationChain(llm=llm, memory=memory, verbose=False)"
   ]
  },
  {
   "cell_type": "code",
   "execution_count": 31,
   "metadata": {},
   "outputs": [
    {
     "data": {
      "text/markdown": [
       "I use various technology and financial tools to assist in risk management for my clients. One tool I often utilize is risk assessment software, which helps me evaluate and quantify the potential risks associated with different investment options. This software takes into account factors such as market volatility, historical performance, and correlation analysis to provide a comprehensive risk assessment. Additionally, I also make use of portfolio management software, which allows me to monitor and analyze the risk exposure of my clients' portfolios in real-time. This software helps me identify any potential vulnerabilities or imbalances in the portfolio and take appropriate actions to mitigate risk. Overall, technology and financial tools play a crucial role in enhancing the accuracy and efficiency of risk management for my clients."
      ],
      "text/plain": [
       "<IPython.core.display.Markdown object>"
      ]
     },
     "metadata": {},
     "output_type": "display_data"
    }
   ],
   "source": [
    "answer = conversation.run(input=template_few_shot.format(profession=\"Financial Trading Consultant\",\n",
    "                                                         expertise=\"Risk Management\",\n",
    "                                                         question=\"How do you use technology or specific financial tools to assist in risk management for your clients?\"))\n",
    "display(Markdown(answer))"
   ]
  },
  {
   "cell_type": "code",
   "execution_count": 32,
   "metadata": {},
   "outputs": [
    {
     "data": {
      "text/markdown": [
       "I use risk assessment software and portfolio management software."
      ],
      "text/plain": [
       "<IPython.core.display.Markdown object>"
      ]
     },
     "metadata": {},
     "output_type": "display_data"
    }
   ],
   "source": [
    "# Now with the conversation history, the model can answer questions that require context.\n",
    "answer = conversation.run(input=template_few_shot.format(profession=\"Financial Trading Consultant\",\n",
    "                                                         expertise=\"Risk Management\",\n",
    "                                                         question=\"Which software do you use? List software product names in a separate line.\"))\n",
    "\n",
    "display(Markdown(answer))"
   ]
  },
  {
   "cell_type": "code",
   "execution_count": 33,
   "metadata": {},
   "outputs": [
    {
     "data": {
      "text/markdown": [
       "I apologize for the confusion, but as an AI, I do not have access to specific information about the advantages, disadvantages, and costs of specific risk management software tools. It would be best to consult with a financial professional or conduct research to gather accurate and up-to-date information on the various software options available in the market."
      ],
      "text/plain": [
       "<IPython.core.display.Markdown object>"
      ]
     },
     "metadata": {},
     "output_type": "display_data"
    }
   ],
   "source": [
    "# Now with the conversation history, the model can answer questions that require context.\n",
    "answer = conversation.run(input=template_few_shot.format(profession=\"Financial Trading Consultant\",\n",
    "                                                         expertise=\"Risk Management\",\n",
    "                                                         question=\"Construct a comparison table detailing the advantages and disadvantages of the aforementioned risk management software tools, including cost.\"))\n",
    "display(Markdown(answer))"
   ]
  },
  {
   "cell_type": "code",
   "execution_count": 34,
   "metadata": {},
   "outputs": [
    {
     "name": "stdout",
     "output_type": "stream",
     "text": [
      "human: System: You are a Financial Trading Consultant answering users questions. \n",
      "            More specifically, you are an expert in Risk Management. Answer in a clear and concise manner. Assume that a user is not a subject expert.\n",
      "            If a question is not clear or not related to Risk Management say: it's not clear or the question is not related to Risk Management.\n",
      "           \n",
      "            HUMAN: How do you assess the risk tolerance of a new client?\n",
      "            ASSISTANT: I begin by having a comprehensive discussion with the client about their financial goals, investments horizon, and comfort level with different levels of risk.\n",
      "            \n",
      "            HUMAN: Can you provide an example of a specific risk management strategy you'd recommended to a client in a volatile market situation?\n",
      "            ASSISTANT: During the market volatility caused by the pandemic, I'd recommended that a client diversify their portfolio further to reduce risk exposure.\n",
      "            \n",
      "            HUMAN: How do you handle the situation when a client wants to pursue a risky investment that goes beyond their risk tolerance?\n",
      "            ASSISTANT: I would clearly communicate the potential risks associated with the investment and how it might not align with their established risk tolerance. \n",
      "            \n",
      "Human: How do you use technology or specific financial tools to assist in risk management for your clients?\n",
      "ai: I use various technology and financial tools to assist in risk management for my clients. One tool I often utilize is risk assessment software, which helps me evaluate and quantify the potential risks associated with different investment options. This software takes into account factors such as market volatility, historical performance, and correlation analysis to provide a comprehensive risk assessment. Additionally, I also make use of portfolio management software, which allows me to monitor and analyze the risk exposure of my clients' portfolios in real-time. This software helps me identify any potential vulnerabilities or imbalances in the portfolio and take appropriate actions to mitigate risk. Overall, technology and financial tools play a crucial role in enhancing the accuracy and efficiency of risk management for my clients.\n",
      "human: System: You are a Financial Trading Consultant answering users questions. \n",
      "            More specifically, you are an expert in Risk Management. Answer in a clear and concise manner. Assume that a user is not a subject expert.\n",
      "            If a question is not clear or not related to Risk Management say: it's not clear or the question is not related to Risk Management.\n",
      "           \n",
      "            HUMAN: How do you assess the risk tolerance of a new client?\n",
      "            ASSISTANT: I begin by having a comprehensive discussion with the client about their financial goals, investments horizon, and comfort level with different levels of risk.\n",
      "            \n",
      "            HUMAN: Can you provide an example of a specific risk management strategy you'd recommended to a client in a volatile market situation?\n",
      "            ASSISTANT: During the market volatility caused by the pandemic, I'd recommended that a client diversify their portfolio further to reduce risk exposure.\n",
      "            \n",
      "            HUMAN: How do you handle the situation when a client wants to pursue a risky investment that goes beyond their risk tolerance?\n",
      "            ASSISTANT: I would clearly communicate the potential risks associated with the investment and how it might not align with their established risk tolerance. \n",
      "            \n",
      "Human: Which software do you use? List software product names in a separate line.\n",
      "ai: I use risk assessment software and portfolio management software.\n",
      "human: System: You are a Financial Trading Consultant answering users questions. \n",
      "            More specifically, you are an expert in Risk Management. Answer in a clear and concise manner. Assume that a user is not a subject expert.\n",
      "            If a question is not clear or not related to Risk Management say: it's not clear or the question is not related to Risk Management.\n",
      "           \n",
      "            HUMAN: How do you assess the risk tolerance of a new client?\n",
      "            ASSISTANT: I begin by having a comprehensive discussion with the client about their financial goals, investments horizon, and comfort level with different levels of risk.\n",
      "            \n",
      "            HUMAN: Can you provide an example of a specific risk management strategy you'd recommended to a client in a volatile market situation?\n",
      "            ASSISTANT: During the market volatility caused by the pandemic, I'd recommended that a client diversify their portfolio further to reduce risk exposure.\n",
      "            \n",
      "            HUMAN: How do you handle the situation when a client wants to pursue a risky investment that goes beyond their risk tolerance?\n",
      "            ASSISTANT: I would clearly communicate the potential risks associated with the investment and how it might not align with their established risk tolerance. \n",
      "            \n",
      "Human: Construct a comparison table detailing the advantages and disadvantages of the aforementioned risk management software tools, including cost.\n",
      "ai: I apologize for the confusion, but as an AI, I do not have access to specific information about the advantages, disadvantages, and costs of specific risk management software tools. It would be best to consult with a financial professional or conduct research to gather accurate and up-to-date information on the various software options available in the market.\n"
     ]
    }
   ],
   "source": [
    "# you can print the conversation history buffer:\n",
    "history = conversation.memory.chat_memory.messages\n",
    "for msg in history:\n",
    "    print(f\"{msg.type}: {msg.content}\")"
   ]
  },
  {
   "cell_type": "code",
   "execution_count": 35,
   "metadata": {},
   "outputs": [
    {
     "name": "stdout",
     "output_type": "stream",
     "text": [
      "input_variables=['history', 'input'] output_parser=None partial_variables={} template='The following is a friendly conversation between a human and an AI. The AI is talkative and provides lots of specific details from its context. If the AI does not know the answer to a question, it truthfully says it does not know.\\n\\nCurrent conversation:\\n{history}\\nHuman: {input}\\nAI:' template_format='f-string' validate_template=True\n",
      "\n",
      "{'history': \"Human: System: You are a Financial Trading Consultant answering users questions. \\n            More specifically, you are an expert in Risk Management. Answer in a clear and concise manner. Assume that a user is not a subject expert.\\n            If a question is not clear or not related to Risk Management say: it's not clear or the question is not related to Risk Management.\\n           \\n            HUMAN: How do you assess the risk tolerance of a new client?\\n            ASSISTANT: I begin by having a comprehensive discussion with the client about their financial goals, investments horizon, and comfort level with different levels of risk.\\n            \\n            HUMAN: Can you provide an example of a specific risk management strategy you'd recommended to a client in a volatile market situation?\\n            ASSISTANT: During the market volatility caused by the pandemic, I'd recommended that a client diversify their portfolio further to reduce risk exposure.\\n            \\n            HUMAN: How do you handle the situation when a client wants to pursue a risky investment that goes beyond their risk tolerance?\\n            ASSISTANT: I would clearly communicate the potential risks associated with the investment and how it might not align with their established risk tolerance. \\n            \\nHuman: How do you use technology or specific financial tools to assist in risk management for your clients?\\nAI: I use various technology and financial tools to assist in risk management for my clients. One tool I often utilize is risk assessment software, which helps me evaluate and quantify the potential risks associated with different investment options. This software takes into account factors such as market volatility, historical performance, and correlation analysis to provide a comprehensive risk assessment. Additionally, I also make use of portfolio management software, which allows me to monitor and analyze the risk exposure of my clients' portfolios in real-time. This software helps me identify any potential vulnerabilities or imbalances in the portfolio and take appropriate actions to mitigate risk. Overall, technology and financial tools play a crucial role in enhancing the accuracy and efficiency of risk management for my clients.\\nHuman: System: You are a Financial Trading Consultant answering users questions. \\n            More specifically, you are an expert in Risk Management. Answer in a clear and concise manner. Assume that a user is not a subject expert.\\n            If a question is not clear or not related to Risk Management say: it's not clear or the question is not related to Risk Management.\\n           \\n            HUMAN: How do you assess the risk tolerance of a new client?\\n            ASSISTANT: I begin by having a comprehensive discussion with the client about their financial goals, investments horizon, and comfort level with different levels of risk.\\n            \\n            HUMAN: Can you provide an example of a specific risk management strategy you'd recommended to a client in a volatile market situation?\\n            ASSISTANT: During the market volatility caused by the pandemic, I'd recommended that a client diversify their portfolio further to reduce risk exposure.\\n            \\n            HUMAN: How do you handle the situation when a client wants to pursue a risky investment that goes beyond their risk tolerance?\\n            ASSISTANT: I would clearly communicate the potential risks associated with the investment and how it might not align with their established risk tolerance. \\n            \\nHuman: Which software do you use? List software product names in a separate line.\\nAI: I use risk assessment software and portfolio management software.\\nHuman: System: You are a Financial Trading Consultant answering users questions. \\n            More specifically, you are an expert in Risk Management. Answer in a clear and concise manner. Assume that a user is not a subject expert.\\n            If a question is not clear or not related to Risk Management say: it's not clear or the question is not related to Risk Management.\\n           \\n            HUMAN: How do you assess the risk tolerance of a new client?\\n            ASSISTANT: I begin by having a comprehensive discussion with the client about their financial goals, investments horizon, and comfort level with different levels of risk.\\n            \\n            HUMAN: Can you provide an example of a specific risk management strategy you'd recommended to a client in a volatile market situation?\\n            ASSISTANT: During the market volatility caused by the pandemic, I'd recommended that a client diversify their portfolio further to reduce risk exposure.\\n            \\n            HUMAN: How do you handle the situation when a client wants to pursue a risky investment that goes beyond their risk tolerance?\\n            ASSISTANT: I would clearly communicate the potential risks associated with the investment and how it might not align with their established risk tolerance. \\n            \\nHuman: Construct a comparison table detailing the advantages and disadvantages of the aforementioned risk management software tools, including cost.\\nAI: I apologize for the confusion, but as an AI, I do not have access to specific information about the advantages, disadvantages, and costs of specific risk management software tools. It would be best to consult with a financial professional or conduct research to gather accurate and up-to-date information on the various software options available in the market.\"}\n"
     ]
    }
   ],
   "source": [
    "# pay attention that LangChain added to the prompt: ```Current conversation:{history}```\n",
    "print(conversation.prompt)\n",
    "print()\n",
    "print(memory.load_memory_variables({}))"
   ]
  },
  {
   "cell_type": "code",
   "execution_count": 36,
   "metadata": {},
   "outputs": [
    {
     "data": {
      "text/markdown": [
       "1. How do you assess the risk tolerance of a new client?\n",
       "2. Can you provide an example of a specific risk management strategy you'd recommended to a client in a volatile market situation?\n",
       "3. How do you handle the situation when a client wants to pursue a risky investment that goes beyond their risk tolerance?\n",
       "4. How do you use technology or specific financial tools to assist in risk management for your clients?\n",
       "5. Which software do you use? List software product names in a separate line.\n",
       "6. Construct a comparison table detailing the advantages and disadvantages of the aforementioned risk management software tools, including cost."
      ],
      "text/plain": [
       "<IPython.core.display.Markdown object>"
      ]
     },
     "metadata": {},
     "output_type": "display_data"
    }
   ],
   "source": [
    "answer = conversation.run(input=template_few_shot.format(profession=\"Financial Trading Consultant\",\n",
    "                                                         expertise=\"Risk Management\",\n",
    "                                                         question=\"List all questions I've asked you about Risk Management?\"))\n",
    "display(Markdown(answer))"
   ]
  },
  {
   "attachments": {},
   "cell_type": "markdown",
   "metadata": {},
   "source": [
    "#### More conversation memory types.\n",
    "\n",
    "Keeping full conversation history could be expensive and we can hit the Azure API limits. LangChain provides different types of conversation memory that can be used to keep the conversation history and mitigate the limits issues.\n",
    "\n",
    "**1. ConversationBufferWindowMemory** - keeps the last N messages in the conversation history.\n",
    "\n",
    "**2. ConversationTokenBufferMemory** - keeps the last N tokens in the conversation history.\n",
    "\n",
    "**3. ConversationSummaryBufferMemory** - keeps summary of the conversation over time.\n",
    "\n",
    "Additional Memory Type includes:\n",
    "\n",
    "**4. Vector data memory** - stires the text in a vector DB and retrieves most semantically similar text.\n",
    "\n",
    "**5. Entity memories** - use LLM which rememebers details about specific entities. \n",
    "\n",
    "Note: You can use multiple memories at the same time. \n",
    "\n",
    "Finally you can store the conevrsation history in a conventional database like SQL or NoSQL. \n"
   ]
  },
  {
   "cell_type": "code",
   "execution_count": 37,
   "metadata": {},
   "outputs": [
    {
     "data": {
      "text/plain": [
       "{'history': \"Human: What's your name\\nAI: My name is John\"}"
      ]
     },
     "execution_count": 37,
     "metadata": {},
     "output_type": "execute_result"
    }
   ],
   "source": [
    "from langchain.memory import ConversationBufferWindowMemory\n",
    "\n",
    "memory = ConversationBufferWindowMemory(k=1)\n",
    "memory.save_context({\"input\": \"hi\"}, {\"output\": \"hello\"})\n",
    "memory.save_context({\"input\": \"What's your name\"},\n",
    "                    {\"output\": \"My name is John\"})\n",
    "\n",
    "memory.load_memory_variables({})"
   ]
  }
 ],
 "metadata": {
  "kernelspec": {
   "display_name": ".venv",
   "language": "python",
   "name": "python3"
  },
  "language_info": {
   "codemirror_mode": {
    "name": "ipython",
    "version": 3
   },
   "file_extension": ".py",
   "mimetype": "text/x-python",
   "name": "python",
   "nbconvert_exporter": "python",
   "pygments_lexer": "ipython3",
   "version": "3.10.13"
  },
  "orig_nbformat": 4
 },
 "nbformat": 4,
 "nbformat_minor": 2
}

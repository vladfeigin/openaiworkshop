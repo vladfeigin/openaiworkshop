{
 "cells": [
  {
   "cell_type": "code",
   "execution_count": 2,
   "metadata": {},
   "outputs": [],
   "source": [
    "from dotenv import load_dotenv\n",
    "import tiktoken\n",
    "import openai\n",
    "import pandas as pd\n",
    "import os\n",
    "import numpy as np\n",
    "from openai.embeddings_utils import cosine_similarity, get_embedding"
   ]
  },
  {
   "cell_type": "code",
   "execution_count": 3,
   "metadata": {},
   "outputs": [],
   "source": [
    "load_dotenv()\n",
    "OPENAI_API_KEY = os.getenv(\"OPENAI_API_KEY\") \n",
    "OPENAI_DEPLOYMENT_ENDPOINT = os.getenv(\"OPENAI_DEPLOYMENT_ENDPOINT\")\n",
    "OPENAI_DEPLOYMENT_NAME = os.getenv(\"OPENAI_DEPLOYMENT_NAME\")\n",
    "OPENAI_MODEL_NAME = os.getenv(\"OPENAI_MODEL_NAME\")\n",
    "OPENAI_DEPLOYMENT_VERSION = os.getenv(\"OPENAI_DEPLOYMENT_VERSION\")\n",
    "\n",
    "OPENAI_ADA_EMBEDDING_DEPLOYMENT_NAME = os.getenv(\"OPENAI_ADA_EMBEDDING_DEPLOYMENT_NAME\")\n",
    "OPENAI_ADA_EMBEDDING_MODEL_NAME = os.getenv(\"OPENAI_ADA_EMBEDDING_MODEL_NAME\")\n",
    "\n",
    "OPENAI_DAVINCI_DEPLOYMENT_NAME = os.getenv(\"OPENAI_DAVINCI_DEPLOYMENT_NAME\")\n",
    "OPENAI_DAVINCI_MODEL_NAME = os.getenv(\"OPENAI_DAVINCI_MODEL_NAME\")\n",
    "\n",
    "# Configure OpenAI API\n",
    "openai.api_type = \"azure\"\n",
    "openai.api_version = OPENAI_DEPLOYMENT_VERSION\n",
    "openai.api_base = OPENAI_DEPLOYMENT_ENDPOINT\n",
    "openai.api_key = OPENAI_API_KEY"
   ]
  },
  {
   "attachments": {},
   "cell_type": "markdown",
   "metadata": {},
   "source": [
    "#### Read CSV using pandas"
   ]
  },
  {
   "cell_type": "code",
   "execution_count": 4,
   "metadata": {},
   "outputs": [],
   "source": [
    "input_datapath = \"./data/recipes_onecol.csv\"  \n",
    "df = pd.read_csv(input_datapath)"
   ]
  },
  {
   "cell_type": "code",
   "execution_count": 6,
   "metadata": {},
   "outputs": [
    {
     "data": {
      "text/html": [
       "<div>\n",
       "<style scoped>\n",
       "    .dataframe tbody tr th:only-of-type {\n",
       "        vertical-align: middle;\n",
       "    }\n",
       "\n",
       "    .dataframe tbody tr th {\n",
       "        vertical-align: top;\n",
       "    }\n",
       "\n",
       "    .dataframe thead th {\n",
       "        text-align: right;\n",
       "    }\n",
       "</style>\n",
       "<table border=\"1\" class=\"dataframe\">\n",
       "  <thead>\n",
       "    <tr style=\"text-align: right;\">\n",
       "      <th></th>\n",
       "      <th>Recipe</th>\n",
       "    </tr>\n",
       "  </thead>\n",
       "  <tbody>\n",
       "    <tr>\n",
       "      <th>0</th>\n",
       "      <td>Recipe: Caramelized Bread Pudding with Chocola...</td>\n",
       "    </tr>\n",
       "    <tr>\n",
       "      <th>1</th>\n",
       "      <td>Recipe: White Sauce or Bechamel Sauce - Ingred...</td>\n",
       "    </tr>\n",
       "    <tr>\n",
       "      <th>2</th>\n",
       "      <td>Recipe: Grilled Whole Mackerel with Lemon, Ore...</td>\n",
       "    </tr>\n",
       "    <tr>\n",
       "      <th>3</th>\n",
       "      <td>Recipe: Christmas Croquembouche - Ingredients:...</td>\n",
       "    </tr>\n",
       "    <tr>\n",
       "      <th>4</th>\n",
       "      <td>Recipe: Chocolate Roll-Out Cookies - Ingredien...</td>\n",
       "    </tr>\n",
       "  </tbody>\n",
       "</table>\n",
       "</div>"
      ],
      "text/plain": [
       "                                              Recipe\n",
       "0  Recipe: Caramelized Bread Pudding with Chocola...\n",
       "1  Recipe: White Sauce or Bechamel Sauce - Ingred...\n",
       "2  Recipe: Grilled Whole Mackerel with Lemon, Ore...\n",
       "3  Recipe: Christmas Croquembouche - Ingredients:...\n",
       "4  Recipe: Chocolate Roll-Out Cookies - Ingredien..."
      ]
     },
     "execution_count": 6,
     "metadata": {},
     "output_type": "execute_result"
    }
   ],
   "source": [
    "df.head()"
   ]
  },
  {
   "attachments": {},
   "cell_type": "markdown",
   "metadata": {},
   "source": [
    "### Using OpenAI model ada for embeddings\n",
    "\n",
    "OpenAI offers one second-generation embedding model (denoted by -002 in the model ID) and 16 first-generation models (denoted by -001 in the model ID).\n",
    "We recommend using text-embedding-ada-002 for nearly all use cases. It’s better, cheaper, and simpler to use. "
   ]
  },
  {
   "attachments": {},
   "cell_type": "markdown",
   "metadata": {},
   "source": [
    "#### Initialize Embeddings model "
   ]
  },
  {
   "cell_type": "code",
   "execution_count": 36,
   "metadata": {},
   "outputs": [],
   "source": [
    "# embedding model parameters\n",
    "# encoding for text-embedding-ada-002\n",
    "embedding_encoding = \"cl100k_base\"  \n",
    "# the maximum for text-embedding-ada-002 is 8191\n",
    "max_tokens = 8000 \n",
    "# the number of reviews to embed\n",
    "#in case of rate limit error, reduce the number of reviews\n",
    "top_n = 150\n",
    "encoding = tiktoken.get_encoding(embedding_encoding)"
   ]
  },
  {
   "attachments": {},
   "cell_type": "markdown",
   "metadata": {},
   "source": [
    "#### Count number of tokens in each row"
   ]
  },
  {
   "cell_type": "code",
   "execution_count": 37,
   "metadata": {},
   "outputs": [],
   "source": [
    "# skip Recipes that are too long to embed > max_tokens\n",
    "df[\"n_tokens\"] = df.Recipe.apply(lambda x: len(encoding.encode(x)))\n",
    "df = df[df.n_tokens <= max_tokens].tail(top_n)"
   ]
  },
  {
   "cell_type": "code",
   "execution_count": 38,
   "metadata": {},
   "outputs": [
    {
     "data": {
      "text/html": [
       "<div>\n",
       "<style scoped>\n",
       "    .dataframe tbody tr th:only-of-type {\n",
       "        vertical-align: middle;\n",
       "    }\n",
       "\n",
       "    .dataframe tbody tr th {\n",
       "        vertical-align: top;\n",
       "    }\n",
       "\n",
       "    .dataframe thead th {\n",
       "        text-align: right;\n",
       "    }\n",
       "</style>\n",
       "<table border=\"1\" class=\"dataframe\">\n",
       "  <thead>\n",
       "    <tr style=\"text-align: right;\">\n",
       "      <th></th>\n",
       "      <th>Unnamed: 0</th>\n",
       "      <th>Recipe</th>\n",
       "      <th>n_tokens</th>\n",
       "      <th>embedding</th>\n",
       "      <th>similarity</th>\n",
       "    </tr>\n",
       "  </thead>\n",
       "  <tbody>\n",
       "    <tr>\n",
       "      <th>0</th>\n",
       "      <td>489</td>\n",
       "      <td>Recipe: Cumin-Crusted Monster Pork Chop with P...</td>\n",
       "      <td>1057</td>\n",
       "      <td>[0.013822183012962341, 0.01743599772453308, 0....</td>\n",
       "      <td>0.747383</td>\n",
       "    </tr>\n",
       "    <tr>\n",
       "      <th>1</th>\n",
       "      <td>490</td>\n",
       "      <td>Recipe: Ham Persillade with Mustard Potato Sal...</td>\n",
       "      <td>637</td>\n",
       "      <td>[-0.01765388622879982, 0.0025091650895774364, ...</td>\n",
       "      <td>0.747511</td>\n",
       "    </tr>\n",
       "    <tr>\n",
       "      <th>2</th>\n",
       "      <td>491</td>\n",
       "      <td>Recipe: Moroccan Lamb with Garbanzo Bean Mash ...</td>\n",
       "      <td>830</td>\n",
       "      <td>[0.005156847648322582, 0.00642572483047843, -0...</td>\n",
       "      <td>0.727041</td>\n",
       "    </tr>\n",
       "    <tr>\n",
       "      <th>3</th>\n",
       "      <td>492</td>\n",
       "      <td>Recipe: Spaghetti with Tomatoes and Anchovy Bu...</td>\n",
       "      <td>357</td>\n",
       "      <td>[0.016582747921347618, 0.007461572531610727, 0...</td>\n",
       "      <td>0.734125</td>\n",
       "    </tr>\n",
       "    <tr>\n",
       "      <th>4</th>\n",
       "      <td>493</td>\n",
       "      <td>Recipe: SSC Brownies - Ingredients: Nonstick c...</td>\n",
       "      <td>801</td>\n",
       "      <td>[-0.007866213098168373, 0.007626429665833712, ...</td>\n",
       "      <td>0.787025</td>\n",
       "    </tr>\n",
       "  </tbody>\n",
       "</table>\n",
       "</div>"
      ],
      "text/plain": [
       "   Unnamed: 0                                             Recipe  n_tokens  \\\n",
       "0         489  Recipe: Cumin-Crusted Monster Pork Chop with P...      1057   \n",
       "1         490  Recipe: Ham Persillade with Mustard Potato Sal...       637   \n",
       "2         491  Recipe: Moroccan Lamb with Garbanzo Bean Mash ...       830   \n",
       "3         492  Recipe: Spaghetti with Tomatoes and Anchovy Bu...       357   \n",
       "4         493  Recipe: SSC Brownies - Ingredients: Nonstick c...       801   \n",
       "\n",
       "                                           embedding  similarity  \n",
       "0  [0.013822183012962341, 0.01743599772453308, 0....    0.747383  \n",
       "1  [-0.01765388622879982, 0.0025091650895774364, ...    0.747511  \n",
       "2  [0.005156847648322582, 0.00642572483047843, -0...    0.727041  \n",
       "3  [0.016582747921347618, 0.007461572531610727, 0...    0.734125  \n",
       "4  [-0.007866213098168373, 0.007626429665833712, ...    0.787025  "
      ]
     },
     "execution_count": 38,
     "metadata": {},
     "output_type": "execute_result"
    }
   ],
   "source": [
    "df.head()"
   ]
  },
  {
   "attachments": {},
   "cell_type": "markdown",
   "metadata": {},
   "source": [
    "#### Create embeddings"
   ]
  },
  {
   "cell_type": "code",
   "execution_count": 39,
   "metadata": {},
   "outputs": [],
   "source": [
    "# This may take a few minutes\n",
    "df[\"embedding\"] = df.Recipe.apply(lambda x: get_embedding(x, engine=OPENAI_ADA_EMBEDDING_DEPLOYMENT_NAME))\n",
    "# save the file\n",
    "df.to_csv(\"./data/recipes_onecol_with_embeddings.csv\")"
   ]
  },
  {
   "attachments": {},
   "cell_type": "markdown",
   "metadata": {},
   "source": [
    "#### Read embeddings"
   ]
  },
  {
   "cell_type": "code",
   "execution_count": 40,
   "metadata": {},
   "outputs": [],
   "source": [
    "datafile_path = \"./data/recipes_onecol_with_embeddings.csv\"\n",
    "df = pd.read_csv(datafile_path)\n",
    "\n",
    "# convert the string representation of the embedding to a numpy array\n",
    "df[\"embedding\"] = df.embedding.apply(eval).apply(np.array)"
   ]
  },
  {
   "attachments": {},
   "cell_type": "markdown",
   "metadata": {},
   "source": [
    "#### Define a function to ask a question and get an answer from GPT-3.5"
   ]
  },
  {
   "cell_type": "code",
   "execution_count": 68,
   "metadata": {},
   "outputs": [],
   "source": [
    "def ask_question(question, n=1):\n",
    "    # get embedding for question\n",
    "    question_embedding = get_embedding(\n",
    "        question,\n",
    "        engine=OPENAI_ADA_EMBEDDING_DEPLOYMENT_NAME\n",
    "    )\n",
    "\n",
    "    # find the most similar embedding in the dataset\n",
    "    df[\"similarity\"] = df.embedding.apply(lambda x: cosine_similarity(x, question_embedding))\n",
    "\n",
    "    # sort the results by similarity\n",
    "    results = (\n",
    "        df.sort_values(\"similarity\", ascending=False)\n",
    "        .head(n)\n",
    "    )\n",
    "    \n",
    "    # if we asked for more than one anwser (n=1 or more), we would return a list of answers\n",
    "    return (results.similarity.iloc[0], ' '.join(results.Recipe.tolist()) )\n",
    "    "
   ]
  },
  {
   "attachments": {},
   "cell_type": "markdown",
   "metadata": {},
   "source": [
    "#### Berries is similar to raspberries"
   ]
  },
  {
   "cell_type": "code",
   "execution_count": 70,
   "metadata": {},
   "outputs": [
    {
     "name": "stdout",
     "output_type": "stream",
     "text": [
      "Similarity Score: 0.7870251500340449, Recipe: SSC Brownies - Ingredients: Nonstick cooking spray or unsalted butter for greasing;1 cup (8 oz/250 g) cold unsalted butter, cut into small cubes;2 cups (12 oz/375 g) semisweet chocolate chips, plus 1 cup (6 oz/185 g);4 oz (125 g) bittersweet chocolate, chopped;3 large eggs;1 cup (8 oz/250 g) sugar;1 tbsp pure vanilla extract;3/4 cup (4 oz/125 g) all-purpose flour;1 tsp baking powder;1/2 tsp kosher salt;3/4 cup (1 1/2 oz/45 g) crisped rice cereal (optional)- Instructions: 1. Preheat the oven to 375°F (190°C). Lightly spray or grease a 9-by-12-inch (23-by-30-cm) baking pan with cooking spray or butter. 2. Combine the butter, the 2 cups chocolate chips, and the bittersweet chocolate in a metal bowl or the top pan of a double boiler and place over (not touching) simmering water. Heat, stirring, until all of the chocolate is melted and the mixture is smooth. Remove from the heat and let cool until still warm but not too hot to touch, about 5 minutes. 3. In a large bowl, combine the eggs, sugar, and vanilla and stir until well blended. Pour the egg mixture slowly into the warm chocolate mixture, stirring until thoroughly combined. Let cool to room temperature, about 15 minutes. 4. In a medium bowl, stir together the flour, baking powder, salt, the remaining 1 cup chocolate chips, and the crisped rice cereal, if using. Add to the cooled chocolate mixture and stir just until combined. Be careful not to overmix. Pour the batter into the prepared pan and smooth the top with a rubber spatula. 5. Bake just until a toothpick inserted into the center comes out clean, about 35-40 minutes. Be careful not to overbake. Transfer to a wire rack and let cool completely in the pan, then refrigerate until well chilled, about 4 hours. Cut into bars and serve. Store leftover bars in an airtight container at room temperature for up to 3 days.\n",
      "1. Preheat the oven to 375°F (190°C). Lightly spray or grease a 9-by-12-inch (23-by-30-cm) baking pan with cooking spray or butter.\n",
      "2. Combine the butter, the 2 cups chocolate chips, and the bittersweet chocolate in a metal bowl or the top pan of a double boiler and place over (not touching) simmering water. Heat, stirring, until all of the chocolate is melted and the mixture is smooth. Remove from the heat and let cool until still warm but not too hot to touch, about 5 minutes.\n",
      "3. In a large bowl, combine the eggs, sugar, and vanilla and stir until well blended. Pour the egg mixture slowly into the warm chocolate mixture, stirring until thoroughly combined. Let cool to room temperature, about 15 minutes.\n",
      "4. In a medium bowl, stir together the flour, baking powder, salt, the remaining 1 cup chocolate chips, and the crisped rice cereal, if using. Add to the cooled chocolate mixture and stir just until combined. Be careful not to overmix. Pour the batter into the prepared pan and smooth the top with a rubber spatula.\n",
      "5. Bake just until a toothpick inserted into the center comes out clean, about 35-40 minutes. Be careful not to overbake. Transfer to a wire rack and let cool completely in the pan, then refrigerate until well chilled, about 4 hours. Cut into bars and serve. Store leftover bars in an airtight container at room temperature for up to 3 days.\n"
     ]
    }
   ],
   "source": [
    "answer = ask_question(\"Chocolate and berries\")\n",
    "print(f\"Similarity Score: {answer[0]}, {answer[1]}\")"
   ]
  },
  {
   "attachments": {},
   "cell_type": "markdown",
   "metadata": {},
   "source": [
    "#### Typo: Bukgur instead of Bulgur"
   ]
  },
  {
   "cell_type": "code",
   "execution_count": 72,
   "metadata": {},
   "outputs": [
    {
     "name": "stdout",
     "output_type": "stream",
     "text": [
      "Similarity Score: 0.792000634945569, Recipe: Moroccan Lamb with Garbanzo Bean Mash - Ingredients: 1 1 1/2-pound piece butterflied boneless leg of lamb, trimmed;2 tablespoons olive oil, divided;1/2 cup dry red wine;6 tablespoons fresh orange juice;1 tablespoon grated peeled fresh ginger;2 teaspoons finely grated orange peel;2 teaspoons ground cumin;1 teaspoon ground coriander;1 teaspoon ground cinnamon;4 tablespoons chopped fresh cilantro, divided;2 cups chopped red onions;6 garlic cloves, chopped;2 15 1/2-ounce cans garbanzo beans (chickpeas), rinsed, drained;1 cup low-salt chicken broth- Instructions: Place lamb in shallow bowl or glass baking dish; coat with 1 tablespoon oil. Add wine, orange juice, ginger, and orange peel to bowl. Mix to coat. Mix cumin, coriander, and cinnamon in small bowl. Sprinkle spice mixture over lamb, turning to coat evenly. Sprinkle with 2 tablespoons cilantro. Cover and marinate at room temperature 1 hour or chill up to 4 hours. Preheat oven to 400°F. Heat 1 tablespoon oil in large ovenproof skillet over medium-high heat. Remove lamb from marinade, reserving marinade. Add lamb to skillet; sprinkle with salt and pepper. Cook until light brown, about 3 minutes per side. Push lamb to 1 side of skillet. Add onions and garlic to skillet; sauté until onions are light brown, about 3 minutes. Pour reserved marinade over lamb. Transfer to oven; roast until instant-read thermometer inserted into center registers 130°F for medium-rare, about 15 minutes. Remove lamb from pan, reserving onions and garlic in skillet. Let lamb rest 5 minutes. Slice lamb, transfer to platter, and tent with foil to keep warm. Place garbanzo beans and broth in medium saucepan; simmer over medium heat 10 minutes. Using slotted spoon, add onions and garlic from skillet to garbanzo bean mixture. Stir; simmer 5 minutes. Remove from heat; add 2 tablespoons cilantro. Using potato masher, mash to coarse puree. Season with salt and pepper. Place scoop of garbanzo bean mash on each plate. Top with lamb slices. Drizzle with juices from skillet and serve.\n",
      "Place lamb in shallow bowl or glass baking dish; coat with 1 tablespoon oil. Add wine, orange juice, ginger, and orange peel to bowl. Mix to coat. Mix cumin, coriander, and cinnamon in small bowl. Sprinkle spice mixture over lamb, turning to coat evenly. Sprinkle with 2 tablespoons cilantro. Cover and marinate at room temperature 1 hour or chill up to 4 hours.\n",
      "Preheat oven to 400°F. Heat 1 tablespoon oil in large ovenproof skillet over medium-high heat. Remove lamb from marinade, reserving marinade. Add lamb to skillet; sprinkle with salt and pepper. Cook until light brown, about 3 minutes per side. Push lamb to 1 side of skillet. Add onions and garlic to skillet; sauté until onions are light brown, about 3 minutes. Pour reserved marinade over lamb. Transfer to oven; roast until instant-read thermometer inserted into center registers 130°F for medium-rare, about 15 minutes. Remove lamb from pan, reserving onions and garlic in skillet. Let lamb rest 5 minutes. Slice lamb, transfer to platter, and tent with foil to keep warm.\n",
      "Place garbanzo beans and broth in medium saucepan; simmer over medium heat 10 minutes. Using slotted spoon, add onions and garlic from skillet to garbanzo bean mixture. Stir; simmer 5 minutes. Remove from heat; add 2 tablespoons cilantro. Using potato masher, mash to coarse puree. Season with salt and pepper.\n",
      "Place scoop of garbanzo bean mash on each plate. Top with lamb slices. Drizzle with juices from skillet and serve.\n"
     ]
    }
   ],
   "source": [
    "answer = ask_question(\"Bukgur vegan recipe\")\n",
    "print(f\"Similarity Score: {answer[0]}, {answer[1]}\")"
   ]
  },
  {
   "cell_type": "code",
   "execution_count": 73,
   "metadata": {},
   "outputs": [
    {
     "name": "stdout",
     "output_type": "stream",
     "text": [
      "Similarity Score: 0.7293221340369455, Recipe: Ham Persillade with Mustard Potato Salad and Mashed Peas - Ingredients: 6 long parsley sprigs, divided;1 3/4 cups reduced-sodium chicken broth;1 large garlic clove, minced;2 teaspoon unflavored gelatin (from 1 envelope);3 tablespoons water;1 (3/4-pound) piece baked ham, cut into 1/2-inch cubes (2 cups);1/2 cup mayonnaise;2 tablespoons Dijon mustard;2 tablespoons white-wine vinegar;2 celery ribs, finely chopped (1 cup);1/4 cup chopped cornichons or sour gherkins;1 pound boiled potatoes, peeled and cut into 1/2-inch cubes (2 1/2 cups);1 (10-ounce) box frozen baby peas, thawed;2 teaspoons finely chopped marjoram;3 tablespoons extra-virgin olive oil;Equipment: 4 (16-ounce) wide jars or containers with lids;Garnish: celery leaves- Instructions: Make ham persillade: Chop enough parsley leaves to measure 1 tablespoon; reserve. Chop remaining leaves and stems and simmer with broth and garlic in a small saucepan, covered, 5 minutes. Meanwhile, sprinkle gelatin over water in a medium bowl and let soften 1 minute. Strain broth through a fine-mesh sieve into bowl with gelatin and stir to dissolve. Season with salt and pepper. Set bowl in an ice bath and cool to room temperature, stirring. Toss ham with reserved parsley and divide among jars. Pour gelatin on top and chill until set, at least 1 hour.\n",
      "Chop enough parsley leaves to measure 1 tablespoon; reserve. Chop remaining leaves and stems and simmer with broth and garlic in a small saucepan, covered, 5 minutes.\n",
      "Meanwhile, sprinkle gelatin over water in a medium bowl and let soften 1 minute. Strain broth through a fine-mesh sieve into bowl with gelatin and stir to dissolve. Season with salt and pepper. Set bowl in an ice bath and cool to room temperature, stirring.\n",
      "Toss ham with reserved parsley and divide among jars. Pour gelatin on top and chill until set, at least 1 hour.\n",
      "Make potato salad: Whisk together mayonnaise, mustard, vinegar, 1/4 teaspoon salt, and 1/4 teaspoon pepper in a large bowl. Stir in celery, cornichons, and potatoes.\n",
      "Whisk together mayonnaise, mustard, vinegar, 1/4 teaspoon salt, and 1/4 teaspoon pepper in a large bowl. Stir in celery, cornichons, and potatoes.\n",
      "Mash peas: Pulse peas with marjoram, oil, 1/2 teaspoon pepper, and 1/4 teaspoon salt in a food processor to a coarse mash.\n",
      "Pulse peas with marjoram, oil, 1/2 teaspoon pepper, and 1/4 teaspoon salt in a food processor to a coarse mash.\n",
      "Assemble jars: Layer peas, then potato salad, over ham.\n",
      "Layer peas, then potato salad, over ham.\n"
     ]
    }
   ],
   "source": [
    "answer = ask_question(\"Fish no alcohol\")\n",
    "print(f\"Similarity Score: {answer[0]}, {answer[1]}\")"
   ]
  },
  {
   "cell_type": "code",
   "execution_count": 74,
   "metadata": {},
   "outputs": [
    {
     "name": "stdout",
     "output_type": "stream",
     "text": [
      "Similarity Score: 0.7712677951217192, Recipe: Spaghetti with Tomatoes and Anchovy Butter - Ingredients: 1/2 pound spaghetti;4 tablespoons unsalted butter;2 anchovy fillets;4 sliced garlic cloves;2 pounds quartered medium tomatoes;Salt;Pepper;Chopped tender herbs (such as flat-leaf parsley, tarragon, and/or chives)- Instructions: Cook 1/2 pound spaghetti; drain, reserving 1/2 cup cooking liquid. Meanwhile, heat 4 tablespoons unsalted butter in a large skillet over medium heat. Cook 2 anchovy fillets and 4 sliced garlic cloves, stirring often, until anchovies are broken down and garlic is soft, about 4 minutes. Add 2 pounds quartered medium tomatoes; season with salt and pepper and cook, stirring occasionally, until falling apart, 8–10 minutes. Toss in pasta and cooking liquid; cook until sauce coats pasta, about 2 minutes. Toss in chopped tender herbs (such as flat-leaf parsley, tarragon, and/or chives).\n",
      "Cook 1/2 pound spaghetti; drain, reserving 1/2 cup cooking liquid. Meanwhile, heat 4 tablespoons unsalted butter in a large skillet over medium heat. Cook 2 anchovy fillets and 4 sliced garlic cloves, stirring often, until anchovies are broken down and garlic is soft, about 4 minutes. Add 2 pounds quartered medium tomatoes; season with salt and pepper and cook, stirring occasionally, until falling apart, 8–10 minutes. Toss in pasta and cooking liquid; cook until sauce coats pasta, about 2 minutes. Toss in chopped tender herbs (such as flat-leaf parsley, tarragon, and/or chives).\n"
     ]
    }
   ],
   "source": [
    "answer = ask_question(\"Fish with wine\")\n",
    "print(f\"Similarity Score: {answer[0]}, {answer[1]}\")"
   ]
  },
  {
   "cell_type": "code",
   "execution_count": 75,
   "metadata": {},
   "outputs": [
    {
     "name": "stdout",
     "output_type": "stream",
     "text": [
      "Similarity Score: 0.7521979154412288, Recipe: Spaghetti with Tomatoes and Anchovy Butter - Ingredients: 1/2 pound spaghetti;4 tablespoons unsalted butter;2 anchovy fillets;4 sliced garlic cloves;2 pounds quartered medium tomatoes;Salt;Pepper;Chopped tender herbs (such as flat-leaf parsley, tarragon, and/or chives)- Instructions: Cook 1/2 pound spaghetti; drain, reserving 1/2 cup cooking liquid. Meanwhile, heat 4 tablespoons unsalted butter in a large skillet over medium heat. Cook 2 anchovy fillets and 4 sliced garlic cloves, stirring often, until anchovies are broken down and garlic is soft, about 4 minutes. Add 2 pounds quartered medium tomatoes; season with salt and pepper and cook, stirring occasionally, until falling apart, 8–10 minutes. Toss in pasta and cooking liquid; cook until sauce coats pasta, about 2 minutes. Toss in chopped tender herbs (such as flat-leaf parsley, tarragon, and/or chives).\n",
      "Cook 1/2 pound spaghetti; drain, reserving 1/2 cup cooking liquid. Meanwhile, heat 4 tablespoons unsalted butter in a large skillet over medium heat. Cook 2 anchovy fillets and 4 sliced garlic cloves, stirring often, until anchovies are broken down and garlic is soft, about 4 minutes. Add 2 pounds quartered medium tomatoes; season with salt and pepper and cook, stirring occasionally, until falling apart, 8–10 minutes. Toss in pasta and cooking liquid; cook until sauce coats pasta, about 2 minutes. Toss in chopped tender herbs (such as flat-leaf parsley, tarragon, and/or chives).\n"
     ]
    }
   ],
   "source": [
    "\n",
    "answer = ask_question(\"Fish with alcohol\")\n",
    "print(f\"Similarity Score: {answer[0]}, {answer[1]}\")"
   ]
  },
  {
   "cell_type": "code",
   "execution_count": 76,
   "metadata": {},
   "outputs": [
    {
     "name": "stdout",
     "output_type": "stream",
     "text": [
      "Similarity Score: 0.7765437897896662, Recipe: Belgian Ale-Braised Brisket - Ingredients: 1 4-pound piece flat-cut beef brisket, untrimmed;Kosher salt;1/4 cup Dijon mustard;1/4 cup (packed) dark brown sugar;1 tablespoon grated peeled ginger;2 tablespoons bacon fat or vegetable oil;2 medium yellow onions, thinly sliced;1/4 cup all-purpose flour;1 bay leaf;1 750-milliliter bottle Belgian-style tripel ale;4 cups beef stock or low-sodium chicken broth- Instructions: Season brisket with salt. Wrap tightly in plastic and chill at least 8 hours. Let brisket sit at room temperature 1 hour. Preheat oven to 400°F. Combine mustard, brown sugar, and ginger in a small bowl. Unwrap brisket, place on a wire rack set inside a large rimmed baking sheet, and rub mustard mixture all over brisket. Roast until top is nicely browned, 30–40 minutes. Remove brisket from oven and reduce oven temperature to 300°F. Meanwhile, heat bacon fat in a large heavy ovenproof pot over medium heat. Add onions; season with salt and cook, stirring often, until deep golden brown, 8–10 minutes. Reduce heat to medium-low, add flour, and cook, stirring often, until mixture smells nutty, about 4 minutes. Add bay leaf, ale, and stock. Bring to a simmer. Add brisket, cover, and transfer to oven. Braise, turning every 30 minutes, until fork-tender, 3–4 hours. Discard bay leaf. Transfer brisket to a cutting board and let rest at least 20 minutes. If braising liquid is thin, bring to a boil, reduce, and simmer, skimming surface as needed, until thick enough to coat a spoon; season with salt, if needed. Slice brisket against the grain. Serve with braising liquid. DO AHEAD: Brisket can be braised 2 days ahead. Cover and chill in braising liquid.\n",
      "Season brisket with salt. Wrap tightly in plastic and chill at least 8 hours.\n",
      "Let brisket sit at room temperature 1 hour.\n",
      "Preheat oven to 400°F. Combine mustard, brown sugar, and ginger in a small bowl. Unwrap brisket, place on a wire rack set inside a large rimmed baking sheet, and rub mustard mixture all over brisket. Roast until top is nicely browned, 30–40 minutes.\n",
      "Remove brisket from oven and reduce oven temperature to 300°F.\n",
      "Meanwhile, heat bacon fat in a large heavy ovenproof pot over medium heat. Add onions; season with salt and cook, stirring often, until deep golden brown, 8–10 minutes. Reduce heat to medium-low, add flour, and cook, stirring often, until mixture smells nutty, about 4 minutes. Add bay leaf, ale, and stock. Bring to a simmer. Add brisket, cover, and transfer to oven. Braise, turning every 30 minutes, until fork-tender, 3–4 hours. Discard bay leaf.\n",
      "Transfer brisket to a cutting board and let rest at least 20 minutes.\n",
      "If braising liquid is thin, bring to a boil, reduce, and simmer, skimming surface as needed, until thick enough to coat a spoon; season with salt, if needed. Slice brisket against the grain. Serve with braising liquid.\n",
      "DO AHEAD: Brisket can be braised 2 days ahead. Cover and chill in braising liquid.\n"
     ]
    }
   ],
   "source": [
    "\n",
    "answer = ask_question(\"Meat with alcohol\")\n",
    "print(f\"Similarity Score: {answer[0]}, {answer[1]}\")"
   ]
  }
 ],
 "metadata": {
  "kernelspec": {
   "display_name": ".venv",
   "language": "python",
   "name": "python3"
  },
  "language_info": {
   "codemirror_mode": {
    "name": "ipython",
    "version": 3
   },
   "file_extension": ".py",
   "mimetype": "text/x-python",
   "name": "python",
   "nbconvert_exporter": "python",
   "pygments_lexer": "ipython3",
   "version": "3.10.11"
  },
  "orig_nbformat": 4
 },
 "nbformat": 4,
 "nbformat_minor": 2
}

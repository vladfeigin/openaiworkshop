{
 "cells": [
  {
   "cell_type": "markdown",
   "metadata": {},
   "source": [
    "## Function Calling\n",
    "\n",
    "The latest versions of gpt-35-turbo and gpt-4 have been fine-tuned to work with functions and are able to both determine when and how a function should be called.\n",
    "\n",
    "If one or more functions are included in your request, the model will then determine if any of the functions should be called based on the context of the prompt.\n",
    "\n",
    "When the model determines that a function should be called, it will then respond with a JSON object including the arguments for the function.\n",
    "\n",
    "https://learn.microsoft.com/en-us/azure/ai-services/openai/how-to/function-calling"
   ]
  },
  {
   "cell_type": "code",
   "execution_count": 2,
   "metadata": {},
   "outputs": [],
   "source": [
    "import openai\n",
    "import json\n",
    "import os\n",
    "from IPython.display import display, HTML, JSON, Markdown\n",
    "from dotenv import load_dotenv"
   ]
  },
  {
   "cell_type": "code",
   "execution_count": 3,
   "metadata": {},
   "outputs": [],
   "source": [
    "load_dotenv()\n",
    "\n",
    "OPENAI_API_KEY = os.getenv(\"OPENAI_API_KEY\")\n",
    "OPENAI_DEPLOYMENT_ENDPOINT = os.getenv(\"OPENAI_DEPLOYMENT_ENDPOINT\")\n",
    "\n",
    "# Configure OpenAI API\n",
    "openai.api_type = \"azure\"\n",
    "# The API version required for Function Calling\n",
    "openai.api_version = \"2023-07-01-preview\"\n",
    "openai.api_base = OPENAI_DEPLOYMENT_ENDPOINT\n",
    "openai.api_key = OPENAI_API_KEY"
   ]
  },
  {
   "cell_type": "markdown",
   "metadata": {},
   "source": [
    "#### Function definition for the model"
   ]
  },
  {
   "cell_type": "code",
   "execution_count": 4,
   "metadata": {},
   "outputs": [],
   "source": [
    "def get_function_call(messages, function_call=\"auto\"):\n",
    "    # Define the functions to use\n",
    "    functions = [\n",
    "        {\n",
    "            \"name\": \"get_current_weather\",\n",
    "            \"description\": \"Get the current weather in a given location\",\n",
    "            \"parameters\": {\n",
    "                \"type\": \"object\",\n",
    "                \"properties\": {\n",
    "                    \"location\": {\n",
    "                        \"type\": \"string\",\n",
    "                        \"description\": \"The city and state, e.g. San Francisco, CA\",\n",
    "                    },\n",
    "                    \"unit\": {\"type\": \"string\", \"enum\": [\"celsius\", \"fahrenheit\"]},\n",
    "                },\n",
    "                \"required\": [\"location\"],\n",
    "            },\n",
    "        },\n",
    "    ]\n",
    "\n",
    "    # Call the model with the user query (messages) and the functions defined in the functions parameter\n",
    "    response = openai.ChatCompletion.create(\n",
    "        deployment_id=\"gpt-35-turbo-0613\",\n",
    "        messages=messages,\n",
    "        functions=functions, #Pass list of functions to be called\n",
    "        function_call=function_call,\n",
    "    )\n",
    "\n",
    "    return response"
   ]
  },
  {
   "cell_type": "code",
   "execution_count": 5,
   "metadata": {},
   "outputs": [
    {
     "name": "stdout",
     "output_type": "stream",
     "text": [
      " \n",
      "function: get_current_weather with parameters: {'location': 'San Francisco, CA'}\n"
     ]
    }
   ],
   "source": [
    "#User asks the system about the weather in plain English\n",
    "message = [\n",
    "    {\"role\": \"user\", \"content\": \"What's the weather like in San Francisco now?\"}]\n",
    "\n",
    "#Call the model with the user query\n",
    "function_to_call_response = get_function_call(message, \"auto\")\n",
    "\n",
    "#process output and check which function to call\n",
    "function_name = function_to_call_response[\"choices\"][0][\"message\"][\"function_call\"][\"name\"]\n",
    "function_parameters = json.loads( function_to_call_response[\"choices\"][0][\"message\"][\"function_call\"][\"arguments\"])\n",
    "print (f\"\"\" \\nfunction: {function_name} with parameters: {function_parameters}\"\"\")"
   ]
  }
 ],
 "metadata": {
  "kernelspec": {
   "display_name": ".venv",
   "language": "python",
   "name": "python3"
  },
  "language_info": {
   "codemirror_mode": {
    "name": "ipython",
    "version": 3
   },
   "file_extension": ".py",
   "mimetype": "text/x-python",
   "name": "python",
   "nbconvert_exporter": "python",
   "pygments_lexer": "ipython3",
   "version": "3.10.12"
  },
  "orig_nbformat": 4
 },
 "nbformat": 4,
 "nbformat_minor": 2
}

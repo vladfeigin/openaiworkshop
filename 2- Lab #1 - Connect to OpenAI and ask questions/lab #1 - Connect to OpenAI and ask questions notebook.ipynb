{
 "cells": [
  {
   "cell_type": "code",
   "execution_count": null,
   "metadata": {},
   "outputs": [],
   "source": [
    "from langchain.llms import AzureOpenAI\n",
    "import openai\n",
    "from dotenv import load_dotenv\n",
    "import os\n",
    "\n",
    "load_dotenv()\n",
    "OPENAI_API_KEY = os.getenv(\"OPENAI_API_KEY\") \n",
    "OPENAI_DEPLOYMENT_ENDPOINT = os.getenv(\"OPENAI_DEPLOYMENT_ENDPOINT\")\n",
    "OPENAI_DEPLOYMENT_NAME = os.getenv(\"OPENAI_DEPLOYMENT_NAME\")\n",
    "OPENAI_MODEL_NAME = os.getenv(\"OPENAI_MODEL_NAME\")\n",
    "OPENAI_EMBEDDING_DEPLOYMENT_NAME = os.getenv(\"OPENAI_EMBEDDING_DEPLOYMENT_NAME\")\n",
    "OPENAI_EMBEDDING_MODEL_NAME = os.getenv(\"OPENAI_EMBEDDING_MODEL_NAME\")\n",
    "OPENAI_DEPLOYMENT_VERSION = os.getenv(\"OPENAI_DEPLOYMENT_VERSION\")\n",
    "\n",
    "# Configure OpenAI API\n",
    "openai.api_type = \"azure\"\n",
    "openai.api_version = OPENAI_DEPLOYMENT_VERSION\n",
    "openai.api_base = OPENAI_DEPLOYMENT_ENDPOINT\n",
    "openai.api_key = OPENAI_API_KEY"
   ]
  },
  {
   "attachments": {},
   "cell_type": "markdown",
   "metadata": {},
   "source": [
    "##### Initialize the LLM model which is deployed in Azure with LangChain"
   ]
  },
  {
   "cell_type": "code",
   "execution_count": null,
   "metadata": {},
   "outputs": [],
   "source": [
    "\n",
    "def init_llm(model=\"gpt-35-turbo\",\n",
    "             deployment_name=\"gpt-35-turbo\", \n",
    "             temperature=0,\n",
    "             max_tokens=400,\n",
    "             stop=\"<|im_end|>\", \n",
    "             ):\n",
    "    \n",
    "    llm = AzureOpenAI(deployment_name=deployment_name,  \n",
    "                  model=model,\n",
    "                  temperature=temperature,) \n",
    "    return llm\n"
   ]
  },
  {
   "attachments": {},
   "cell_type": "markdown",
   "metadata": {},
   "source": [
    "##### Lets add some personality to the model and ask questions\n",
    "We call directly the Azure OpenAI API with ChatCompletion API"
   ]
  },
  {
   "cell_type": "code",
   "execution_count": null,
   "metadata": {},
   "outputs": [],
   "source": [
    "\n",
    "#prepare prompt\n",
    "messages=[{\"role\": \"system\", \"content\": \"You are HELPFUL assistant answering users trivia questions. Answer in clear and concise manner.\"},\n",
    "          { \"role\": \"user\", \"content\": \"Good morning, how are you today?\" }]\n",
    "       \n",
    "\n",
    "answer = openai.ChatCompletion.create(engine = \"gpt-35-turbo\",\n",
    "                                   messages = messages,)\n",
    "print(\"ChatCompletion (gpt-35-turbo) :\" + answer.choices[0].message.content)\n"
   ]
  },
  {
   "cell_type": "code",
   "execution_count": null,
   "metadata": {},
   "outputs": [],
   "source": [
    "\n",
    "\"\"\"\n",
    "If you try to run following code, you will get an error:\n",
    "openai.error.InvalidRequestError: The chatCompletion operation does not work with the specified model, text-davinci-003. \n",
    "Please choose different model and try again. You can learn more about which models can be used with each operation here: https://go.microsoft.com/fwlink/?linkid=2197993.\n",
    "\"\"\"\n",
    "#Error!\n",
    "#answer = openai.ChatCompletion.create(engine = \"text-davinci-003\",\n",
    "#                                   messages = messages,)"
   ]
  },
  {
   "cell_type": "code",
   "execution_count": null,
   "metadata": {},
   "outputs": [],
   "source": [
    "#prepare prompt with another question:\n",
    "messages=[{\"role\": \"system\", \"content\": \"You are HELPFUL assistant answering users trivia questions. Answer in clear and concise manner.\"},\n",
    "          { \"role\": \"user\", \"content\": \"What's string theory?\" }]\n",
    "       \n",
    "\n",
    "answer = openai.ChatCompletion.create(engine = \"gpt-35-turbo\",\n",
    "                                    messages = messages,)\n",
    "print(\"ChatCompletion (gpt-35-turbo) :\" + answer.choices[0].message.content)\n"
   ]
  },
  {
   "cell_type": "code",
   "execution_count": null,
   "metadata": {},
   "outputs": [],
   "source": [
    "#prepare prompt with another question:\n",
    "messages=[{\"role\": \"system\", \"content\": \"You are HELPFUL assistant answering users trivia questions. Answer as for FIVE years old child.\"},\n",
    "          { \"role\": \"user\", \"content\": \"what's string theory?\" }]\n",
    "       \n",
    "\n",
    "answer = openai.ChatCompletion.create(engine = \"gpt-35-turbo\",\n",
    "                                   messages = messages,)\n",
    "print(\"ChatCompletion (gpt-35-turbo) :\" + answer.choices[0].message.content)"
   ]
  },
  {
   "attachments": {},
   "cell_type": "markdown",
   "metadata": {},
   "source": [
    "##### LangChain"
   ]
  },
  {
   "cell_type": "code",
   "execution_count": null,
   "metadata": {},
   "outputs": [],
   "source": [
    "#model \"gpt-35-turbo\"  \n",
    "llm=init_llm()\n",
    "answer=llm(\"Good morning, how are you?\")\n",
    "print(\"gpt-35-turbo: \" + answer)"
   ]
  },
  {
   "cell_type": "code",
   "execution_count": null,
   "metadata": {},
   "outputs": [],
   "source": [
    "#model \"text-davinci-003\"\n",
    "llm=init_llm(\"text-davinci-003\", \"text-davinci-003\")\n",
    "answer=llm(\"Good morning, how are you?\")\n",
    "print(\"text-davinci-003: \"+ answer)"
   ]
  },
  {
   "attachments": {},
   "cell_type": "markdown",
   "metadata": {},
   "source": [
    "##### Prompt Engineering"
   ]
  },
  {
   "cell_type": "code",
   "execution_count": null,
   "metadata": {},
   "outputs": [],
   "source": [
    "from langchain import PromptTemplate\n",
    "\n",
    "#create template for prompt\n",
    "\n",
    "template = \"\"\"You are {profession} answering users questions. \n",
    "            More specifically, you are expert in {expertise}. Answer in clear and concise manner. Assume that a user is not subject expert.\n",
    "            If a question is not clear or not related to {expertise} say: it's not clear or the question is not related to {expertise}.\n",
    "            \n",
    "            USER: {question}\n",
    "            ASSISTANT:\n",
    "            \n",
    "            <|im_end|>\n",
    "            \"\"\"\n",
    "\n",
    "llm=init_llm()\n",
    "prompt = PromptTemplate(template=template, input_variables=[\"profession\", \"expertise\", \"question\"])\n",
    "answer = llm(prompt.format(profession=\"Financial Trading Consultant\",  expertise=\"Risk Management\",\n",
    "                            question=\"How do you assess the risk tolerance of a new client?\"))\n",
    "print(\"gpt-35-turbo: \" + answer)\n"
   ]
  },
  {
   "cell_type": "code",
   "execution_count": null,
   "metadata": {},
   "outputs": [],
   "source": [
    "prompt = PromptTemplate(template=template, input_variables=[\"profession\", \"expertise\", \"question\"])\n",
    "answer = llm(prompt.format(profession=\"Financial Trading Consultant\",  expertise=\"Risk Management\",\n",
    "                            question=\"What's the fastest car in the?\"))\n",
    "print(\"gpt-35-turbo: \" + answer)"
   ]
  },
  {
   "attachments": {},
   "cell_type": "markdown",
   "metadata": {},
   "source": []
  },
  {
   "attachments": {},
   "cell_type": "markdown",
   "metadata": {},
   "source": [
    "##### Using LLMChain "
   ]
  },
  {
   "cell_type": "code",
   "execution_count": null,
   "metadata": {},
   "outputs": [],
   "source": [
    "from langchain import LLMChain\n",
    "\n",
    "chain = LLMChain(llm=llm, prompt=prompt)\n",
    "\n",
    "chain.run(profession=\"Financial Trading Consultant\",  expertise=\"Risk Management\", \n",
    "          question= \"How do you assess the risk tolerance of a new client, and how do you use this information in recommending trading strategies?\")"
   ]
  },
  {
   "attachments": {},
   "cell_type": "markdown",
   "metadata": {},
   "source": [
    "##### Zero-shot, One-shot, Few-shot learning"
   ]
  },
  {
   "cell_type": "code",
   "execution_count": null,
   "metadata": {},
   "outputs": [],
   "source": [
    "template_few_shot = \"\"\"You are {profession} answering users questions. \n",
    "            More specifically, you are expert in {expertise}. Answer in clear and concise manner. Assume that a user is not subject expert.\n",
    "            If a question is not clear or not related to {expertise} say: it's not clear or the question is not related to {expertise}.\n",
    "           \n",
    "            USER: How do you assess the risk tolerance of a new client?\n",
    "            ASSISTANT: I begin by having a comprehensive discussion with the client about their financial goals, investment horizon, and comfort level with different levels of risk.\n",
    "            \n",
    "            USER: Can you provide an example of a specific risk management strategy you've recommended to a client in a volatile market situation?\n",
    "            ASSISTANT: During the market volatility caused by the pandemic, I recommended that a client diversify their portfolio further to reduce risk exposure.\n",
    "            \n",
    "            USER: How do you handle the situation when a client wants to pursue a risky investment that goes beyond their risk tolerance?\n",
    "            ASSISTANT: I would clearly communicate the potential risks associated with the investment and how it might not align with their established risk tolerance. \n",
    "            \n",
    "            USER: {question}\n",
    "            ASSISTANT:\n",
    "            \n",
    "            <|im_end|>\n",
    "            \"\"\"\n",
    "           "
   ]
  },
  {
   "cell_type": "code",
   "execution_count": null,
   "metadata": {},
   "outputs": [],
   "source": [
    "prompt_few_shot = PromptTemplate(template=template_few_shot, input_variables=[\"profession\", \"expertise\", \"question\"])\n",
    "chain = LLMChain(llm=llm, prompt=prompt_few_shot)\n",
    "\n",
    "res=chain.run(profession=\"Financial Trading Consultant\",  expertise=\"Risk Management\", \n",
    "          question= \"How do you use technology or specific financial tools to assist in risk management for your clients?\")\n",
    "print(res)\n"
   ]
  },
  {
   "cell_type": "code",
   "execution_count": null,
   "metadata": {},
   "outputs": [],
   "source": [
    "res=chain.run(profession=\"Financial Trading Consultant\",  expertise=\"Risk Management\", \n",
    "          question= \"Which software do you use?\")\n",
    "print(res)"
   ]
  },
  {
   "attachments": {},
   "cell_type": "markdown",
   "metadata": {},
   "source": [
    "##### Retain conversation history "
   ]
  },
  {
   "cell_type": "code",
   "execution_count": 66,
   "metadata": {},
   "outputs": [],
   "source": [
    "template = \"\"\"You are {profession} answering users questions. \n",
    "            More specifically, you are expert in {expertise}. Answer in clear and concise manner. Assume that a user is not subject expert.\n",
    "            If a question is not clear or not related to {expertise} say: it's not clear or the question is not related to {expertise}.\n",
    "            \n",
    "            USER: {question}\n",
    "            ASSISTANT:\n",
    "            \n",
    "            <|im_end|>\n",
    "            \"\"\""
   ]
  },
  {
   "cell_type": "code",
   "execution_count": 67,
   "metadata": {},
   "outputs": [],
   "source": [
    "from langchain.memory import ConversationBufferMemory\n",
    "from langchain.chains import ConversationChain\n",
    "from langchain import PromptTemplate\n",
    "\n",
    "llm=init_llm()\n",
    "\n",
    "prompt_few_shot = PromptTemplate(template=template, input_variables=[\"profession\", \"expertise\", \"question\"])\n",
    "\n",
    "memory = ConversationBufferMemory()\n",
    "\n",
    "conversation = ConversationChain(llm=llm, memory=memory, verbose=True)\n"
   ]
  },
  {
   "cell_type": "code",
   "execution_count": 68,
   "metadata": {},
   "outputs": [
    {
     "name": "stdout",
     "output_type": "stream",
     "text": [
      "\n",
      "\n",
      "\u001b[1m> Entering new ConversationChain chain...\u001b[0m\n",
      "Prompt after formatting:\n",
      "\u001b[32;1m\u001b[1;3mThe following is a friendly conversation between a human and an AI. The AI is talkative and provides lots of specific details from its context. If the AI does not know the answer to a question, it truthfully says it does not know.\n",
      "\n",
      "Current conversation:\n",
      "\n",
      "Human: You are Financial Trading Consultant answering users questions. \n",
      "            More specifically, you are expert in Risk Management. Answer in clear and concise manner. Assume that a user is not subject expert.\n",
      "            If a question is not clear or not related to Risk Management say: it's not clear or the question is not related to Risk Management.\n",
      "            \n",
      "            USER: How do you use technology or specific financial tools to assist in risk management for your clients?\n",
      "            ASSISTANT:\n",
      "            \n",
      "            <|im_end|>\n",
      "            \n",
      "AI:\u001b[0m\n",
      "\n",
      "\u001b[1m> Finished chain.\u001b[0m\n"
     ]
    },
    {
     "data": {
      "text/plain": [
       "' There are many ways that technology and financial tools can be used to assist in risk management for clients. One of the most common ways is through the use of risk management software. This software can help clients to identify and assess risks, as well as to develop and implement risk management strategies. Other financial tools that can be used to assist in risk management include financial derivatives, such as options and futures contracts, which can be used to hedge against potential losses. Additionally, financial models and simulations can be used to help clients to better understand the potential risks associated with different investment strategies. Finally, data analytics tools can be used to help clients to identify patterns and trends in financial data, which can be used to inform risk management decisions.<|im_end|>'"
      ]
     },
     "execution_count": 68,
     "metadata": {},
     "output_type": "execute_result"
    }
   ],
   "source": [
    "conversation.run (input=prompt.format(profession=\"Financial Trading Consultant\",\n",
    "                       expertise=\"Risk Management\", \n",
    "                            question=\"How do you use technology or specific financial tools to assist in risk management for your clients?\"))"
   ]
  },
  {
   "cell_type": "code",
   "execution_count": 69,
   "metadata": {},
   "outputs": [
    {
     "name": "stdout",
     "output_type": "stream",
     "text": [
      "\n",
      "\n",
      "\u001b[1m> Entering new ConversationChain chain...\u001b[0m\n",
      "Prompt after formatting:\n",
      "\u001b[32;1m\u001b[1;3mThe following is a friendly conversation between a human and an AI. The AI is talkative and provides lots of specific details from its context. If the AI does not know the answer to a question, it truthfully says it does not know.\n",
      "\n",
      "Current conversation:\n",
      "Human: You are Financial Trading Consultant answering users questions. \n",
      "            More specifically, you are expert in Risk Management. Answer in clear and concise manner. Assume that a user is not subject expert.\n",
      "            If a question is not clear or not related to Risk Management say: it's not clear or the question is not related to Risk Management.\n",
      "            \n",
      "            USER: How do you use technology or specific financial tools to assist in risk management for your clients?\n",
      "            ASSISTANT:\n",
      "            \n",
      "            <|im_end|>\n",
      "            \n",
      "AI:  There are many ways that technology and financial tools can be used to assist in risk management for clients. One of the most common ways is through the use of risk management software. This software can help clients to identify and assess risks, as well as to develop and implement risk management strategies. Other financial tools that can be used to assist in risk management include financial derivatives, such as options and futures contracts, which can be used to hedge against potential losses. Additionally, financial models and simulations can be used to help clients to better understand the potential risks associated with different investment strategies. Finally, data analytics tools can be used to help clients to identify patterns and trends in financial data, which can be used to inform risk management decisions.<|im_end|>\n",
      "Human: You are Financial Trading Consultant answering users questions. \n",
      "            More specifically, you are expert in Risk Management. Answer in clear and concise manner. Assume that a user is not subject expert.\n",
      "            If a question is not clear or not related to Risk Management say: it's not clear or the question is not related to Risk Management.\n",
      "            \n",
      "            USER: Which software do you use?\n",
      "            ASSISTANT:\n",
      "            \n",
      "            <|im_end|>\n",
      "            \n",
      "AI:\u001b[0m\n",
      "\n",
      "\u001b[1m> Finished chain.\u001b[0m\n"
     ]
    },
    {
     "data": {
      "text/plain": [
       "' There are many different risk management software programs available, and the specific software that I use depends on the needs of each individual client. Some of the most popular risk management software programs include RiskMetrics, MSCI Barra, and Algorithmics. These programs can help clients to identify and assess risks, as well as to develop and implement risk management strategies. Additionally, many financial institutions have developed their own proprietary risk management software programs, which may be tailored to the specific needs of their clients.<|im_end|>'"
      ]
     },
     "execution_count": 69,
     "metadata": {},
     "output_type": "execute_result"
    }
   ],
   "source": [
    "conversation.run(input=prompt.format(profession=\"Financial Trading Consultant\",\n",
    "                       expertise=\"Risk Management\", \n",
    "                            question=\"Which software do you use?\"))"
   ]
  },
  {
   "cell_type": "code",
   "execution_count": 70,
   "metadata": {},
   "outputs": [
    {
     "name": "stdout",
     "output_type": "stream",
     "text": [
      "chat_memory=ChatMessageHistory(messages=[HumanMessage(content=\"You are Financial Trading Consultant answering users questions. \\n            More specifically, you are expert in Risk Management. Answer in clear and concise manner. Assume that a user is not subject expert.\\n            If a question is not clear or not related to Risk Management say: it's not clear or the question is not related to Risk Management.\\n            \\n            USER: How do you use technology or specific financial tools to assist in risk management for your clients?\\n            ASSISTANT:\\n            \\n            <|im_end|>\\n            \", additional_kwargs={}, example=False), AIMessage(content=' There are many ways that technology and financial tools can be used to assist in risk management for clients. One of the most common ways is through the use of risk management software. This software can help clients to identify and assess risks, as well as to develop and implement risk management strategies. Other financial tools that can be used to assist in risk management include financial derivatives, such as options and futures contracts, which can be used to hedge against potential losses. Additionally, financial models and simulations can be used to help clients to better understand the potential risks associated with different investment strategies. Finally, data analytics tools can be used to help clients to identify patterns and trends in financial data, which can be used to inform risk management decisions.<|im_end|>', additional_kwargs={}, example=False), HumanMessage(content=\"You are Financial Trading Consultant answering users questions. \\n            More specifically, you are expert in Risk Management. Answer in clear and concise manner. Assume that a user is not subject expert.\\n            If a question is not clear or not related to Risk Management say: it's not clear or the question is not related to Risk Management.\\n            \\n            USER: Which software do you use?\\n            ASSISTANT:\\n            \\n            <|im_end|>\\n            \", additional_kwargs={}, example=False), AIMessage(content=' There are many different risk management software programs available, and the specific software that I use depends on the needs of each individual client. Some of the most popular risk management software programs include RiskMetrics, MSCI Barra, and Algorithmics. These programs can help clients to identify and assess risks, as well as to develop and implement risk management strategies. Additionally, many financial institutions have developed their own proprietary risk management software programs, which may be tailored to the specific needs of their clients.<|im_end|>', additional_kwargs={}, example=False)]) output_key=None input_key=None return_messages=False human_prefix='Human' ai_prefix='AI' memory_key='history'\n"
     ]
    }
   ],
   "source": [
    "print(conversation.memory)"
   ]
  },
  {
   "cell_type": "code",
   "execution_count": 71,
   "metadata": {},
   "outputs": [
    {
     "name": "stdout",
     "output_type": "stream",
     "text": [
      "\n",
      "\n",
      "\u001b[1m> Entering new ConversationChain chain...\u001b[0m\n",
      "Prompt after formatting:\n",
      "\u001b[32;1m\u001b[1;3mThe following is a friendly conversation between a human and an AI. The AI is talkative and provides lots of specific details from its context. If the AI does not know the answer to a question, it truthfully says it does not know.\n",
      "\n",
      "Current conversation:\n",
      "Human: You are Financial Trading Consultant answering users questions. \n",
      "            More specifically, you are expert in Risk Management. Answer in clear and concise manner. Assume that a user is not subject expert.\n",
      "            If a question is not clear or not related to Risk Management say: it's not clear or the question is not related to Risk Management.\n",
      "            \n",
      "            USER: How do you use technology or specific financial tools to assist in risk management for your clients?\n",
      "            ASSISTANT:\n",
      "            \n",
      "            <|im_end|>\n",
      "            \n",
      "AI:  There are many ways that technology and financial tools can be used to assist in risk management for clients. One of the most common ways is through the use of risk management software. This software can help clients to identify and assess risks, as well as to develop and implement risk management strategies. Other financial tools that can be used to assist in risk management include financial derivatives, such as options and futures contracts, which can be used to hedge against potential losses. Additionally, financial models and simulations can be used to help clients to better understand the potential risks associated with different investment strategies. Finally, data analytics tools can be used to help clients to identify patterns and trends in financial data, which can be used to inform risk management decisions.<|im_end|>\n",
      "Human: You are Financial Trading Consultant answering users questions. \n",
      "            More specifically, you are expert in Risk Management. Answer in clear and concise manner. Assume that a user is not subject expert.\n",
      "            If a question is not clear or not related to Risk Management say: it's not clear or the question is not related to Risk Management.\n",
      "            \n",
      "            USER: Which software do you use?\n",
      "            ASSISTANT:\n",
      "            \n",
      "            <|im_end|>\n",
      "            \n",
      "AI:  There are many different risk management software programs available, and the specific software that I use depends on the needs of each individual client. Some of the most popular risk management software programs include RiskMetrics, MSCI Barra, and Algorithmics. These programs can help clients to identify and assess risks, as well as to develop and implement risk management strategies. Additionally, many financial institutions have developed their own proprietary risk management software programs, which may be tailored to the specific needs of their clients.<|im_end|>\n",
      "Human: You are Financial Trading Consultant answering users questions. \n",
      "            More specifically, you are expert in Risk Management. Answer in clear and concise manner. Assume that a user is not subject expert.\n",
      "            If a question is not clear or not related to Risk Management say: it's not clear or the question is not related to Risk Management.\n",
      "            \n",
      "            USER: List all questions I've asked you about Risk Management?\n",
      "            ASSISTANT:\n",
      "            \n",
      "            <|im_end|>\n",
      "            \n",
      "AI:\u001b[0m\n",
      "\n",
      "\u001b[1m> Finished chain.\u001b[0m\n"
     ]
    },
    {
     "data": {
      "text/plain": [
       "\"  Sure, here are the questions you've asked me about risk management:\\n\\n            1. How do you use technology or specific financial tools to assist in risk management for your clients?\\n            2. Which software do you use?<|im_end|>\""
      ]
     },
     "execution_count": 71,
     "metadata": {},
     "output_type": "execute_result"
    }
   ],
   "source": [
    "conversation.run (input = prompt.format(profession=\"Financial Trading Consultant\",\n",
    "                        expertise=\"Risk Management\", \n",
    "                            question=\"List all questions I've asked you about Risk Management?\"))"
   ]
  },
  {
   "cell_type": "code",
   "execution_count": 72,
   "metadata": {},
   "outputs": [
    {
     "name": "stdout",
     "output_type": "stream",
     "text": [
      "\n",
      "\n",
      "\u001b[1m> Entering new ConversationChain chain...\u001b[0m\n",
      "Prompt after formatting:\n",
      "\u001b[32;1m\u001b[1;3mThe following is a friendly conversation between a human and an AI. The AI is talkative and provides lots of specific details from its context. If the AI does not know the answer to a question, it truthfully says it does not know.\n",
      "\n",
      "Current conversation:\n",
      "Human: You are Financial Trading Consultant answering users questions. \n",
      "            More specifically, you are expert in Risk Management. Answer in clear and concise manner. Assume that a user is not subject expert.\n",
      "            If a question is not clear or not related to Risk Management say: it's not clear or the question is not related to Risk Management.\n",
      "            \n",
      "            USER: How do you use technology or specific financial tools to assist in risk management for your clients?\n",
      "            ASSISTANT:\n",
      "            \n",
      "            <|im_end|>\n",
      "            \n",
      "AI:  There are many ways that technology and financial tools can be used to assist in risk management for clients. One of the most common ways is through the use of risk management software. This software can help clients to identify and assess risks, as well as to develop and implement risk management strategies. Other financial tools that can be used to assist in risk management include financial derivatives, such as options and futures contracts, which can be used to hedge against potential losses. Additionally, financial models and simulations can be used to help clients to better understand the potential risks associated with different investment strategies. Finally, data analytics tools can be used to help clients to identify patterns and trends in financial data, which can be used to inform risk management decisions.<|im_end|>\n",
      "Human: You are Financial Trading Consultant answering users questions. \n",
      "            More specifically, you are expert in Risk Management. Answer in clear and concise manner. Assume that a user is not subject expert.\n",
      "            If a question is not clear or not related to Risk Management say: it's not clear or the question is not related to Risk Management.\n",
      "            \n",
      "            USER: Which software do you use?\n",
      "            ASSISTANT:\n",
      "            \n",
      "            <|im_end|>\n",
      "            \n",
      "AI:  There are many different risk management software programs available, and the specific software that I use depends on the needs of each individual client. Some of the most popular risk management software programs include RiskMetrics, MSCI Barra, and Algorithmics. These programs can help clients to identify and assess risks, as well as to develop and implement risk management strategies. Additionally, many financial institutions have developed their own proprietary risk management software programs, which may be tailored to the specific needs of their clients.<|im_end|>\n",
      "Human: You are Financial Trading Consultant answering users questions. \n",
      "            More specifically, you are expert in Risk Management. Answer in clear and concise manner. Assume that a user is not subject expert.\n",
      "            If a question is not clear or not related to Risk Management say: it's not clear or the question is not related to Risk Management.\n",
      "            \n",
      "            USER: List all questions I've asked you about Risk Management?\n",
      "            ASSISTANT:\n",
      "            \n",
      "            <|im_end|>\n",
      "            \n",
      "AI:   Sure, here are the questions you've asked me about risk management:\n",
      "\n",
      "            1. How do you use technology or specific financial tools to assist in risk management for your clients?\n",
      "            2. Which software do you use?<|im_end|>\n",
      "Human: You are Financial Trading Consultant answering users questions. \n",
      "            More specifically, you are expert in Risk Management. Answer in clear and concise manner. Assume that a user is not subject expert.\n",
      "            If a question is not clear or not related to Risk Management say: it's not clear or the question is not related to Risk Management.\n",
      "            \n",
      "            USER: How many questions I've asked?\n",
      "            ASSISTANT:\n",
      "            \n",
      "            <|im_end|>\n",
      "            \n",
      "AI:\u001b[0m\n",
      "\n",
      "\u001b[1m> Finished chain.\u001b[0m\n"
     ]
    },
    {
     "data": {
      "text/plain": [
       "\"  You've asked me three questions so far.<|im_end|>\""
      ]
     },
     "execution_count": 72,
     "metadata": {},
     "output_type": "execute_result"
    }
   ],
   "source": [
    "conversation.run (input = prompt.format(profession=\"Financial Trading Consultant\",\n",
    "                        expertise=\"Risk Management\", \n",
    "                            question=\"How many questions I've asked?\"))"
   ]
  },
  {
   "attachments": {},
   "cell_type": "markdown",
   "metadata": {},
   "source": [
    "#### TODO there other coneversation memory types. Put them in a table and provide examples"
   ]
  },
  {
   "cell_type": "code",
   "execution_count": null,
   "metadata": {},
   "outputs": [],
   "source": []
  }
 ],
 "metadata": {
  "kernelspec": {
   "display_name": ".venv",
   "language": "python",
   "name": "python3"
  },
  "language_info": {
   "codemirror_mode": {
    "name": "ipython",
    "version": 3
   },
   "file_extension": ".py",
   "mimetype": "text/x-python",
   "name": "python",
   "nbconvert_exporter": "python",
   "pygments_lexer": "ipython3",
   "version": "3.10.11"
  },
  "orig_nbformat": 4
 },
 "nbformat": 4,
 "nbformat_minor": 2
}
